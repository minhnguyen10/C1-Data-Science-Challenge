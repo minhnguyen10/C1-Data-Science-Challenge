{
  "nbformat": 4,
  "nbformat_minor": 0,
  "metadata": {
    "colab": {
      "provenance": [],
      "collapsed_sections": [
        "FfVLvffzQVV5",
        "XwB1uuZ7QbSb",
        "LeV0ZWnQHCT1",
        "xpSN37SqQlCX",
        "u-lBputbQzdG",
        "HP-ym5pYRg3U",
        "kmNgda64XgR_",
        "iCkiHbOYYhcH",
        "qLC9WjdLcSQ5",
        "XN55T7FHcU7c",
        "znLQ23kZdVJw",
        "OMnks4Tac0Fh",
        "fb-SQnR2dYcf",
        "5NluGGIdfb41",
        "A4qYJIlFguJm",
        "437agAzViWBC",
        "zRMKxpTxQ30L",
        "5Dtw492q57UW",
        "PhRgk6Zn-9oN",
        "4dj5AGJa_MDw",
        "U4_kvbOaAGqE",
        "l3WwW8rKF2R8",
        "YaVPbBXEGeK_",
        "z-zyG2yUGlcv",
        "pbgtWdOrHOuj",
        "qK7rkw78w-pz",
        "3gZEm4F_xDCt",
        "zo26Wv9exFpL",
        "Xr8qeudCyETw",
        "fcTEeajjEQzp",
        "ByuLte55uNnH",
        "irgo7sUYxtnn",
        "12w6xvvWHOm4"
      ]
    },
    "kernelspec": {
      "name": "python3",
      "display_name": "Python 3"
    },
    "language_info": {
      "name": "python"
    }
  },
  "cells": [
    {
      "cell_type": "markdown",
      "metadata": {
        "id": "FfVLvffzQVV5"
      },
      "source": [
        "#**Data Science Challenge: Fraud Detection**"
      ]
    },
    {
      "cell_type": "markdown",
      "metadata": {
        "id": "XwB1uuZ7QbSb"
      },
      "source": [
        "# 1. Introduction"
      ]
    },
    {
      "cell_type": "markdown",
      "metadata": {
        "id": "LeV0ZWnQHCT1"
      },
      "source": [
        "## Bussiness challenge\n",
        "Fraud is a problem for any bank. Fraud can take many forms, whether it is someone stealing a single credit card, to large batches of stolen credit card numbers being used on the web, or even a mass compromise of credit card numbers stolen from a merchant via tools like credit card skimming devices. Using historical transaction data, we aim to find patterns and build models to detect future fraud transactions."
      ]
    },
    {
      "cell_type": "markdown",
      "metadata": {
        "id": "xpSN37SqQlCX"
      },
      "source": [
        "## Data Overview\n",
        "\n",
        "The dataset is credit card transactions data stored in line-delimited JSON format. It contains all transactions made on in 2016 (from 01/01/2016 to 12/31/2016). The dataset contains 786363 transaction records, which included 12417 Fraud transaction labled as True and 773946 normal transaction as False. Thus, the dataset is extremely imbalanced, the positive (fraud) class accounting for only 0.15% of all transaction."
      ]
    },
    {
      "cell_type": "markdown",
      "metadata": {
        "id": "u-lBputbQzdG"
      },
      "source": [
        "# 2. Data Exploration"
      ]
    },
    {
      "cell_type": "markdown",
      "metadata": {
        "id": "K_39_WE_R5Xc"
      },
      "source": [
        "Before diving into the data, we need to import some libraies"
      ]
    },
    {
      "cell_type": "code",
      "metadata": {
        "id": "MCwT4sYDSEKc"
      },
      "source": [
        "import numpy as np # linear algebra\n",
        "import pandas as pd\n",
        "import matplotlib.pyplot as plt\n",
        "%matplotlib inline\n",
        "import seaborn as sns\n",
        "\n",
        "import warnings\n",
        "warnings.filterwarnings('ignore')"
      ],
      "execution_count": null,
      "outputs": []
    },
    {
      "cell_type": "markdown",
      "metadata": {
        "id": "HP-ym5pYRg3U"
      },
      "source": [
        "## General Data Exploration\n",
        "First, we need to load the data and convert some variables to correct format, for example dates columns and blank values."
      ]
    },
    {
      "cell_type": "code",
      "metadata": {
        "id": "HCvJKULuXszd"
      },
      "source": [
        "#Please change this file path\n",
        "data_path = '/content/drive/MyDrive/CapitalOne/transactions.txt' "
      ],
      "execution_count": null,
      "outputs": []
    },
    {
      "cell_type": "code",
      "metadata": {
        "id": "5gfi4OHNng0c",
        "colab": {
          "base_uri": "https://localhost:8080/",
          "height": 224
        },
        "outputId": "137cf3ed-715a-4d55-baae-0bba908c3cbd"
      },
      "source": [
        "df_raw = pd.read_json(data_path, lines=True)\n",
        "df = df_raw.replace(r'\\s+',np.nan,regex=True).replace('',np.nan)\n",
        "df[[\"transactionDateTime\", \"accountOpenDate\", \"dateOfLastAddressChange\",'currentExpDate']] = df[[\"transactionDateTime\", \"accountOpenDate\", \"dateOfLastAddressChange\",'currentExpDate']].apply(pd.to_datetime)\n",
        "df.head()"
      ],
      "execution_count": null,
      "outputs": [
        {
          "output_type": "execute_result",
          "data": {
            "text/html": [
              "<div>\n",
              "<style scoped>\n",
              "    .dataframe tbody tr th:only-of-type {\n",
              "        vertical-align: middle;\n",
              "    }\n",
              "\n",
              "    .dataframe tbody tr th {\n",
              "        vertical-align: top;\n",
              "    }\n",
              "\n",
              "    .dataframe thead th {\n",
              "        text-align: right;\n",
              "    }\n",
              "</style>\n",
              "<table border=\"1\" class=\"dataframe\">\n",
              "  <thead>\n",
              "    <tr style=\"text-align: right;\">\n",
              "      <th></th>\n",
              "      <th>accountNumber</th>\n",
              "      <th>customerId</th>\n",
              "      <th>creditLimit</th>\n",
              "      <th>availableMoney</th>\n",
              "      <th>transactionDateTime</th>\n",
              "      <th>transactionAmount</th>\n",
              "      <th>merchantName</th>\n",
              "      <th>acqCountry</th>\n",
              "      <th>merchantCountryCode</th>\n",
              "      <th>posEntryMode</th>\n",
              "      <th>posConditionCode</th>\n",
              "      <th>merchantCategoryCode</th>\n",
              "      <th>currentExpDate</th>\n",
              "      <th>accountOpenDate</th>\n",
              "      <th>dateOfLastAddressChange</th>\n",
              "      <th>cardCVV</th>\n",
              "      <th>enteredCVV</th>\n",
              "      <th>cardLast4Digits</th>\n",
              "      <th>transactionType</th>\n",
              "      <th>echoBuffer</th>\n",
              "      <th>currentBalance</th>\n",
              "      <th>merchantCity</th>\n",
              "      <th>merchantState</th>\n",
              "      <th>merchantZip</th>\n",
              "      <th>cardPresent</th>\n",
              "      <th>posOnPremises</th>\n",
              "      <th>recurringAuthInd</th>\n",
              "      <th>expirationDateKeyInMatch</th>\n",
              "      <th>isFraud</th>\n",
              "    </tr>\n",
              "  </thead>\n",
              "  <tbody>\n",
              "    <tr>\n",
              "      <th>0</th>\n",
              "      <td>737265056</td>\n",
              "      <td>737265056</td>\n",
              "      <td>5000</td>\n",
              "      <td>5000.0</td>\n",
              "      <td>2016-08-13 14:27:32</td>\n",
              "      <td>98.55</td>\n",
              "      <td>Uber</td>\n",
              "      <td>US</td>\n",
              "      <td>US</td>\n",
              "      <td>02</td>\n",
              "      <td>01</td>\n",
              "      <td>rideshare</td>\n",
              "      <td>2023-06-01</td>\n",
              "      <td>2015-03-14</td>\n",
              "      <td>2015-03-14</td>\n",
              "      <td>414</td>\n",
              "      <td>414</td>\n",
              "      <td>1803</td>\n",
              "      <td>PURCHASE</td>\n",
              "      <td>NaN</td>\n",
              "      <td>0.0</td>\n",
              "      <td>NaN</td>\n",
              "      <td>NaN</td>\n",
              "      <td>NaN</td>\n",
              "      <td>False</td>\n",
              "      <td>NaN</td>\n",
              "      <td>NaN</td>\n",
              "      <td>False</td>\n",
              "      <td>False</td>\n",
              "    </tr>\n",
              "    <tr>\n",
              "      <th>1</th>\n",
              "      <td>737265056</td>\n",
              "      <td>737265056</td>\n",
              "      <td>5000</td>\n",
              "      <td>5000.0</td>\n",
              "      <td>2016-10-11 05:05:54</td>\n",
              "      <td>74.51</td>\n",
              "      <td>NaN</td>\n",
              "      <td>US</td>\n",
              "      <td>US</td>\n",
              "      <td>09</td>\n",
              "      <td>01</td>\n",
              "      <td>entertainment</td>\n",
              "      <td>2024-02-01</td>\n",
              "      <td>2015-03-14</td>\n",
              "      <td>2015-03-14</td>\n",
              "      <td>486</td>\n",
              "      <td>486</td>\n",
              "      <td>767</td>\n",
              "      <td>PURCHASE</td>\n",
              "      <td>NaN</td>\n",
              "      <td>0.0</td>\n",
              "      <td>NaN</td>\n",
              "      <td>NaN</td>\n",
              "      <td>NaN</td>\n",
              "      <td>True</td>\n",
              "      <td>NaN</td>\n",
              "      <td>NaN</td>\n",
              "      <td>False</td>\n",
              "      <td>False</td>\n",
              "    </tr>\n",
              "    <tr>\n",
              "      <th>2</th>\n",
              "      <td>737265056</td>\n",
              "      <td>737265056</td>\n",
              "      <td>5000</td>\n",
              "      <td>5000.0</td>\n",
              "      <td>2016-11-08 09:18:39</td>\n",
              "      <td>7.47</td>\n",
              "      <td>NaN</td>\n",
              "      <td>US</td>\n",
              "      <td>US</td>\n",
              "      <td>09</td>\n",
              "      <td>01</td>\n",
              "      <td>mobileapps</td>\n",
              "      <td>2025-08-01</td>\n",
              "      <td>2015-03-14</td>\n",
              "      <td>2015-03-14</td>\n",
              "      <td>486</td>\n",
              "      <td>486</td>\n",
              "      <td>767</td>\n",
              "      <td>PURCHASE</td>\n",
              "      <td>NaN</td>\n",
              "      <td>0.0</td>\n",
              "      <td>NaN</td>\n",
              "      <td>NaN</td>\n",
              "      <td>NaN</td>\n",
              "      <td>False</td>\n",
              "      <td>NaN</td>\n",
              "      <td>NaN</td>\n",
              "      <td>False</td>\n",
              "      <td>False</td>\n",
              "    </tr>\n",
              "    <tr>\n",
              "      <th>3</th>\n",
              "      <td>737265056</td>\n",
              "      <td>737265056</td>\n",
              "      <td>5000</td>\n",
              "      <td>5000.0</td>\n",
              "      <td>2016-12-10 02:14:50</td>\n",
              "      <td>7.47</td>\n",
              "      <td>NaN</td>\n",
              "      <td>US</td>\n",
              "      <td>US</td>\n",
              "      <td>09</td>\n",
              "      <td>01</td>\n",
              "      <td>mobileapps</td>\n",
              "      <td>2025-08-01</td>\n",
              "      <td>2015-03-14</td>\n",
              "      <td>2015-03-14</td>\n",
              "      <td>486</td>\n",
              "      <td>486</td>\n",
              "      <td>767</td>\n",
              "      <td>PURCHASE</td>\n",
              "      <td>NaN</td>\n",
              "      <td>0.0</td>\n",
              "      <td>NaN</td>\n",
              "      <td>NaN</td>\n",
              "      <td>NaN</td>\n",
              "      <td>False</td>\n",
              "      <td>NaN</td>\n",
              "      <td>NaN</td>\n",
              "      <td>False</td>\n",
              "      <td>False</td>\n",
              "    </tr>\n",
              "    <tr>\n",
              "      <th>4</th>\n",
              "      <td>830329091</td>\n",
              "      <td>830329091</td>\n",
              "      <td>5000</td>\n",
              "      <td>5000.0</td>\n",
              "      <td>2016-03-24 21:04:46</td>\n",
              "      <td>71.18</td>\n",
              "      <td>NaN</td>\n",
              "      <td>US</td>\n",
              "      <td>US</td>\n",
              "      <td>02</td>\n",
              "      <td>01</td>\n",
              "      <td>fastfood</td>\n",
              "      <td>2029-10-01</td>\n",
              "      <td>2015-08-06</td>\n",
              "      <td>2015-08-06</td>\n",
              "      <td>885</td>\n",
              "      <td>885</td>\n",
              "      <td>3143</td>\n",
              "      <td>PURCHASE</td>\n",
              "      <td>NaN</td>\n",
              "      <td>0.0</td>\n",
              "      <td>NaN</td>\n",
              "      <td>NaN</td>\n",
              "      <td>NaN</td>\n",
              "      <td>True</td>\n",
              "      <td>NaN</td>\n",
              "      <td>NaN</td>\n",
              "      <td>False</td>\n",
              "      <td>False</td>\n",
              "    </tr>\n",
              "  </tbody>\n",
              "</table>\n",
              "</div>"
            ],
            "text/plain": [
              "   accountNumber  customerId  ...  expirationDateKeyInMatch  isFraud\n",
              "0      737265056   737265056  ...                     False    False\n",
              "1      737265056   737265056  ...                     False    False\n",
              "2      737265056   737265056  ...                     False    False\n",
              "3      737265056   737265056  ...                     False    False\n",
              "4      830329091   830329091  ...                     False    False\n",
              "\n",
              "[5 rows x 29 columns]"
            ]
          },
          "metadata": {},
          "execution_count": 3
        }
      ]
    },
    {
      "cell_type": "markdown",
      "metadata": {
        "id": "JDsNwJ21TGbx"
      },
      "source": [
        "Now, let's see how many data we have and what type of data by using info(). I have summarized this info in the data overview"
      ]
    },
    {
      "cell_type": "code",
      "metadata": {
        "colab": {
          "base_uri": "https://localhost:8080/"
        },
        "id": "iphs2qCSTE4G",
        "outputId": "e8fb17b0-27ab-4556-bc9c-2cd632457230"
      },
      "source": [
        "print(df.info())"
      ],
      "execution_count": null,
      "outputs": [
        {
          "output_type": "stream",
          "name": "stdout",
          "text": [
            "<class 'pandas.core.frame.DataFrame'>\n",
            "RangeIndex: 786363 entries, 0 to 786362\n",
            "Data columns (total 29 columns):\n",
            " #   Column                    Non-Null Count   Dtype         \n",
            "---  ------                    --------------   -----         \n",
            " 0   accountNumber             786363 non-null  int64         \n",
            " 1   customerId                786363 non-null  int64         \n",
            " 2   creditLimit               786363 non-null  int64         \n",
            " 3   availableMoney            786363 non-null  float64       \n",
            " 4   transactionDateTime       786363 non-null  datetime64[ns]\n",
            " 5   transactionAmount         786363 non-null  float64       \n",
            " 6   merchantName              272715 non-null  object        \n",
            " 7   acqCountry                781801 non-null  object        \n",
            " 8   merchantCountryCode       785639 non-null  object        \n",
            " 9   posEntryMode              782309 non-null  object        \n",
            " 10  posConditionCode          785954 non-null  object        \n",
            " 11  merchantCategoryCode      767399 non-null  object        \n",
            " 12  currentExpDate            786363 non-null  datetime64[ns]\n",
            " 13  accountOpenDate           786363 non-null  datetime64[ns]\n",
            " 14  dateOfLastAddressChange   786363 non-null  datetime64[ns]\n",
            " 15  cardCVV                   786363 non-null  int64         \n",
            " 16  enteredCVV                786363 non-null  int64         \n",
            " 17  cardLast4Digits           786363 non-null  int64         \n",
            " 18  transactionType           785665 non-null  object        \n",
            " 19  echoBuffer                0 non-null       float64       \n",
            " 20  currentBalance            786363 non-null  float64       \n",
            " 21  merchantCity              0 non-null       float64       \n",
            " 22  merchantState             0 non-null       float64       \n",
            " 23  merchantZip               0 non-null       float64       \n",
            " 24  cardPresent               786363 non-null  bool          \n",
            " 25  posOnPremises             0 non-null       float64       \n",
            " 26  recurringAuthInd          0 non-null       float64       \n",
            " 27  expirationDateKeyInMatch  786363 non-null  bool          \n",
            " 28  isFraud                   786363 non-null  bool          \n",
            "dtypes: bool(3), datetime64[ns](4), float64(9), int64(6), object(7)\n",
            "memory usage: 158.2+ MB\n",
            "None\n"
          ]
        }
      ]
    },
    {
      "cell_type": "markdown",
      "metadata": {
        "id": "VZdoDDG0Txw-"
      },
      "source": [
        "The raw dataset has 786363 entries with 28 attributes and one response variable.\n",
        "\n",
        "We noticed that, columns \"echoBuffer\", \"merchantCity\", \"merchantState\", \"merchantZip\", \"posOnPremises\", \"recurringAuthInd\" contains all missing values, so we can immidiatly drop these columns.\n"
      ]
    },
    {
      "cell_type": "code",
      "metadata": {
        "id": "4YGOs_F6TwBG"
      },
      "source": [
        "df = df.drop(columns=['echoBuffer', 'merchantCity','merchantState','merchantZip','posOnPremises','recurringAuthInd'])"
      ],
      "execution_count": null,
      "outputs": []
    },
    {
      "cell_type": "markdown",
      "metadata": {
        "id": "stEThcYBSvsn"
      },
      "source": [
        "Since we also noticed that some other attributes have missing values, we now need to check if how much missing data they contain"
      ]
    },
    {
      "cell_type": "code",
      "metadata": {
        "colab": {
          "base_uri": "https://localhost:8080/"
        },
        "id": "AGWyHgnQS5d9",
        "outputId": "e8002a4d-bdf4-46b0-a919-1878bc0a8412"
      },
      "source": [
        "print('Data columns with null values:\\n', df.isna().sum())"
      ],
      "execution_count": null,
      "outputs": [
        {
          "output_type": "stream",
          "name": "stdout",
          "text": [
            "Data columns with null values:\n",
            " accountNumber                    0\n",
            "customerId                       0\n",
            "creditLimit                      0\n",
            "availableMoney                   0\n",
            "transactionDateTime              0\n",
            "transactionAmount                0\n",
            "merchantName                513648\n",
            "acqCountry                    4562\n",
            "merchantCountryCode            724\n",
            "posEntryMode                  4054\n",
            "posConditionCode               409\n",
            "merchantCategoryCode         18964\n",
            "currentExpDate                   0\n",
            "accountOpenDate                  0\n",
            "dateOfLastAddressChange          0\n",
            "cardCVV                          0\n",
            "enteredCVV                       0\n",
            "cardLast4Digits                  0\n",
            "transactionType                698\n",
            "currentBalance                   0\n",
            "cardPresent                      0\n",
            "expirationDateKeyInMatch         0\n",
            "isFraud                          0\n",
            "dtype: int64\n"
          ]
        }
      ]
    },
    {
      "cell_type": "markdown",
      "metadata": {
        "id": "LZluedmlUszi"
      },
      "source": [
        "Half of the transaction is missing \"merchantName\", but we can not drop the column now since the data is extremely imbalanced, so we might find other way to transform it. Similar situation for other attributes, we can not just drop record with missing data immediately since we might loss some important information.\n",
        "\n",
        "Then, we explore the distribution of numerical attributes:\n"
      ]
    },
    {
      "cell_type": "code",
      "metadata": {
        "colab": {
          "base_uri": "https://localhost:8080/",
          "height": 297
        },
        "id": "w1QRBzFOUoCC",
        "outputId": "8198c186-59f7-4c05-91b9-239009226f27"
      },
      "source": [
        "df.describe()"
      ],
      "execution_count": null,
      "outputs": [
        {
          "output_type": "execute_result",
          "data": {
            "text/html": [
              "<div>\n",
              "<style scoped>\n",
              "    .dataframe tbody tr th:only-of-type {\n",
              "        vertical-align: middle;\n",
              "    }\n",
              "\n",
              "    .dataframe tbody tr th {\n",
              "        vertical-align: top;\n",
              "    }\n",
              "\n",
              "    .dataframe thead th {\n",
              "        text-align: right;\n",
              "    }\n",
              "</style>\n",
              "<table border=\"1\" class=\"dataframe\">\n",
              "  <thead>\n",
              "    <tr style=\"text-align: right;\">\n",
              "      <th></th>\n",
              "      <th>accountNumber</th>\n",
              "      <th>customerId</th>\n",
              "      <th>creditLimit</th>\n",
              "      <th>availableMoney</th>\n",
              "      <th>transactionAmount</th>\n",
              "      <th>cardCVV</th>\n",
              "      <th>enteredCVV</th>\n",
              "      <th>cardLast4Digits</th>\n",
              "      <th>currentBalance</th>\n",
              "    </tr>\n",
              "  </thead>\n",
              "  <tbody>\n",
              "    <tr>\n",
              "      <th>count</th>\n",
              "      <td>7.863630e+05</td>\n",
              "      <td>7.863630e+05</td>\n",
              "      <td>786363.000000</td>\n",
              "      <td>786363.000000</td>\n",
              "      <td>786363.000000</td>\n",
              "      <td>786363.000000</td>\n",
              "      <td>786363.000000</td>\n",
              "      <td>786363.000000</td>\n",
              "      <td>786363.000000</td>\n",
              "    </tr>\n",
              "    <tr>\n",
              "      <th>mean</th>\n",
              "      <td>5.372326e+08</td>\n",
              "      <td>5.372326e+08</td>\n",
              "      <td>10759.464459</td>\n",
              "      <td>6250.725369</td>\n",
              "      <td>136.985791</td>\n",
              "      <td>544.467338</td>\n",
              "      <td>544.183857</td>\n",
              "      <td>4757.417799</td>\n",
              "      <td>4508.739089</td>\n",
              "    </tr>\n",
              "    <tr>\n",
              "      <th>std</th>\n",
              "      <td>2.554211e+08</td>\n",
              "      <td>2.554211e+08</td>\n",
              "      <td>11636.174890</td>\n",
              "      <td>8880.783989</td>\n",
              "      <td>147.725569</td>\n",
              "      <td>261.524220</td>\n",
              "      <td>261.551254</td>\n",
              "      <td>2996.583810</td>\n",
              "      <td>6457.442068</td>\n",
              "    </tr>\n",
              "    <tr>\n",
              "      <th>min</th>\n",
              "      <td>1.000881e+08</td>\n",
              "      <td>1.000881e+08</td>\n",
              "      <td>250.000000</td>\n",
              "      <td>-1005.630000</td>\n",
              "      <td>0.000000</td>\n",
              "      <td>100.000000</td>\n",
              "      <td>0.000000</td>\n",
              "      <td>0.000000</td>\n",
              "      <td>0.000000</td>\n",
              "    </tr>\n",
              "    <tr>\n",
              "      <th>25%</th>\n",
              "      <td>3.301333e+08</td>\n",
              "      <td>3.301333e+08</td>\n",
              "      <td>5000.000000</td>\n",
              "      <td>1077.420000</td>\n",
              "      <td>33.650000</td>\n",
              "      <td>310.000000</td>\n",
              "      <td>310.000000</td>\n",
              "      <td>2178.000000</td>\n",
              "      <td>689.910000</td>\n",
              "    </tr>\n",
              "    <tr>\n",
              "      <th>50%</th>\n",
              "      <td>5.074561e+08</td>\n",
              "      <td>5.074561e+08</td>\n",
              "      <td>7500.000000</td>\n",
              "      <td>3184.860000</td>\n",
              "      <td>87.900000</td>\n",
              "      <td>535.000000</td>\n",
              "      <td>535.000000</td>\n",
              "      <td>4733.000000</td>\n",
              "      <td>2451.760000</td>\n",
              "    </tr>\n",
              "    <tr>\n",
              "      <th>75%</th>\n",
              "      <td>7.676200e+08</td>\n",
              "      <td>7.676200e+08</td>\n",
              "      <td>15000.000000</td>\n",
              "      <td>7500.000000</td>\n",
              "      <td>191.480000</td>\n",
              "      <td>785.000000</td>\n",
              "      <td>785.000000</td>\n",
              "      <td>7338.000000</td>\n",
              "      <td>5291.095000</td>\n",
              "    </tr>\n",
              "    <tr>\n",
              "      <th>max</th>\n",
              "      <td>9.993896e+08</td>\n",
              "      <td>9.993896e+08</td>\n",
              "      <td>50000.000000</td>\n",
              "      <td>50000.000000</td>\n",
              "      <td>2011.540000</td>\n",
              "      <td>998.000000</td>\n",
              "      <td>998.000000</td>\n",
              "      <td>9998.000000</td>\n",
              "      <td>47498.810000</td>\n",
              "    </tr>\n",
              "  </tbody>\n",
              "</table>\n",
              "</div>"
            ],
            "text/plain": [
              "       accountNumber    customerId  ...  cardLast4Digits  currentBalance\n",
              "count   7.863630e+05  7.863630e+05  ...    786363.000000   786363.000000\n",
              "mean    5.372326e+08  5.372326e+08  ...      4757.417799     4508.739089\n",
              "std     2.554211e+08  2.554211e+08  ...      2996.583810     6457.442068\n",
              "min     1.000881e+08  1.000881e+08  ...         0.000000        0.000000\n",
              "25%     3.301333e+08  3.301333e+08  ...      2178.000000      689.910000\n",
              "50%     5.074561e+08  5.074561e+08  ...      4733.000000     2451.760000\n",
              "75%     7.676200e+08  7.676200e+08  ...      7338.000000     5291.095000\n",
              "max     9.993896e+08  9.993896e+08  ...      9998.000000    47498.810000\n",
              "\n",
              "[8 rows x 9 columns]"
            ]
          },
          "metadata": {},
          "execution_count": 7
        }
      ]
    },
    {
      "cell_type": "markdown",
      "metadata": {
        "id": "ACcHVmdfWNnX"
      },
      "source": [
        "Here, we only need to focus on creditLimit, availableMoney, transactionAmount, currentBalance since others are qualitative and their distribution has no meaning. We noticed that, these numerical values have very different range, so we might need to perform Standardization during data cleaning step\n",
        "\n",
        "Next, we see the distribution of categorical data\n"
      ]
    },
    {
      "cell_type": "code",
      "metadata": {
        "colab": {
          "base_uri": "https://localhost:8080/",
          "height": 173
        },
        "id": "mMsGVShQVy4Z",
        "outputId": "31baa871-fdff-40d8-8622-aade88615cd0"
      },
      "source": [
        "df.describe(include=['object', 'bool'])"
      ],
      "execution_count": null,
      "outputs": [
        {
          "output_type": "execute_result",
          "data": {
            "text/html": [
              "<div>\n",
              "<style scoped>\n",
              "    .dataframe tbody tr th:only-of-type {\n",
              "        vertical-align: middle;\n",
              "    }\n",
              "\n",
              "    .dataframe tbody tr th {\n",
              "        vertical-align: top;\n",
              "    }\n",
              "\n",
              "    .dataframe thead th {\n",
              "        text-align: right;\n",
              "    }\n",
              "</style>\n",
              "<table border=\"1\" class=\"dataframe\">\n",
              "  <thead>\n",
              "    <tr style=\"text-align: right;\">\n",
              "      <th></th>\n",
              "      <th>merchantName</th>\n",
              "      <th>acqCountry</th>\n",
              "      <th>merchantCountryCode</th>\n",
              "      <th>posEntryMode</th>\n",
              "      <th>posConditionCode</th>\n",
              "      <th>merchantCategoryCode</th>\n",
              "      <th>transactionType</th>\n",
              "      <th>cardPresent</th>\n",
              "      <th>expirationDateKeyInMatch</th>\n",
              "      <th>isFraud</th>\n",
              "    </tr>\n",
              "  </thead>\n",
              "  <tbody>\n",
              "    <tr>\n",
              "      <th>count</th>\n",
              "      <td>272715</td>\n",
              "      <td>781801</td>\n",
              "      <td>785639</td>\n",
              "      <td>782309</td>\n",
              "      <td>785954</td>\n",
              "      <td>767399</td>\n",
              "      <td>785665</td>\n",
              "      <td>786363</td>\n",
              "      <td>786363</td>\n",
              "      <td>786363</td>\n",
              "    </tr>\n",
              "    <tr>\n",
              "      <th>unique</th>\n",
              "      <td>29</td>\n",
              "      <td>4</td>\n",
              "      <td>4</td>\n",
              "      <td>5</td>\n",
              "      <td>3</td>\n",
              "      <td>18</td>\n",
              "      <td>3</td>\n",
              "      <td>2</td>\n",
              "      <td>2</td>\n",
              "      <td>2</td>\n",
              "    </tr>\n",
              "    <tr>\n",
              "      <th>top</th>\n",
              "      <td>Uber</td>\n",
              "      <td>US</td>\n",
              "      <td>US</td>\n",
              "      <td>05</td>\n",
              "      <td>01</td>\n",
              "      <td>online_retail</td>\n",
              "      <td>PURCHASE</td>\n",
              "      <td>False</td>\n",
              "      <td>False</td>\n",
              "      <td>False</td>\n",
              "    </tr>\n",
              "    <tr>\n",
              "      <th>freq</th>\n",
              "      <td>25613</td>\n",
              "      <td>774709</td>\n",
              "      <td>778511</td>\n",
              "      <td>315035</td>\n",
              "      <td>628787</td>\n",
              "      <td>202156</td>\n",
              "      <td>745193</td>\n",
              "      <td>433495</td>\n",
              "      <td>785320</td>\n",
              "      <td>773946</td>\n",
              "    </tr>\n",
              "  </tbody>\n",
              "</table>\n",
              "</div>"
            ],
            "text/plain": [
              "       merchantName acqCountry  ... expirationDateKeyInMatch isFraud\n",
              "count        272715     781801  ...                   786363  786363\n",
              "unique           29          4  ...                        2       2\n",
              "top            Uber         US  ...                    False   False\n",
              "freq          25613     774709  ...                   785320  773946\n",
              "\n",
              "[4 rows x 10 columns]"
            ]
          },
          "metadata": {},
          "execution_count": 8
        }
      ]
    },
    {
      "cell_type": "markdown",
      "metadata": {
        "id": "PmuQbL6ly7iJ"
      },
      "source": [
        "See different values of categorical data"
      ]
    },
    {
      "cell_type": "code",
      "metadata": {
        "colab": {
          "base_uri": "https://localhost:8080/"
        },
        "id": "t6HHjHS6WWh8",
        "outputId": "07c1be5d-6a37-45eb-c57f-4bba037f0060"
      },
      "source": [
        "cat_attributes = df.select_dtypes(include=['object']).columns\n",
        "for col in cat_attributes:\n",
        "  print(col)\n",
        "  print(df[col].unique())"
      ],
      "execution_count": null,
      "outputs": [
        {
          "output_type": "stream",
          "name": "stdout",
          "text": [
            "merchantName\n",
            "['Uber' nan 'GreenCook' 'staples.com' 'target.com' 'amazon.com' 'gap.com'\n",
            " 'sears.com' 'apple.com' 'oldnavy.com' 'ebay.com' 'discount.com'\n",
            " 'alibaba.com' 'Lyft' 'cheapfast.com' 'walmart.com' 'Spotify' 'abc.com'\n",
            " 'hulu.com' 'netflix.com' 'ethanallen.com' 'Wayfair.com'\n",
            " 'pottery-barn.com' 'Aloft' 'ashleyfurniture.com' 'ikea.com' 'westelm.com'\n",
            " 'williamssonoma.com' 'MyApron' 'DailyOmnivore']\n",
            "acqCountry\n",
            "['US' nan 'CAN' 'MEX' 'PR']\n",
            "merchantCountryCode\n",
            "['US' 'CAN' nan 'PR' 'MEX']\n",
            "posEntryMode\n",
            "['02' '09' '05' '80' '90' nan]\n",
            "posConditionCode\n",
            "['01' '08' '99' nan]\n",
            "merchantCategoryCode\n",
            "['rideshare' 'entertainment' 'mobileapps' 'fastfood' 'food_delivery'\n",
            " 'auto' 'online_retail' 'gym' 'health' nan 'food' 'fuel'\n",
            " 'online_subscriptions' 'online_gifts' 'hotels' 'airline' 'furniture'\n",
            " 'subscriptions' 'cable/phone']\n",
            "transactionType\n",
            "['PURCHASE' 'ADDRESS_VERIFICATION' 'REVERSAL' nan]\n"
          ]
        }
      ]
    },
    {
      "cell_type": "markdown",
      "metadata": {
        "id": "9u51RBv7WZ4P"
      },
      "source": [
        "Categorical data does not have ranking meaning and their unique values are pretty small, so we can transform them using one hot encoding during the cleaning process"
      ]
    },
    {
      "cell_type": "markdown",
      "metadata": {
        "id": "kmNgda64XgR_"
      },
      "source": [
        "## Target Exploration\n",
        "Now let's take closer look at our target variable isFraud by first plot a histogram of the processed amounts of each transaction, the transactionAmount column."
      ]
    },
    {
      "cell_type": "code",
      "metadata": {
        "colab": {
          "base_uri": "https://localhost:8080/"
        },
        "id": "MWEngeQhXiwP",
        "outputId": "e9463d9b-5cfc-4fcc-99c1-7bd79ee79fbb"
      },
      "source": [
        "df['isFraud'].value_counts()"
      ],
      "execution_count": null,
      "outputs": [
        {
          "output_type": "execute_result",
          "data": {
            "text/plain": [
              "False    773946\n",
              "True      12417\n",
              "Name: isFraud, dtype: int64"
            ]
          },
          "metadata": {},
          "execution_count": 10
        }
      ]
    },
    {
      "cell_type": "code",
      "metadata": {
        "colab": {
          "base_uri": "https://localhost:8080/"
        },
        "id": "4hnlTB07XwXZ",
        "outputId": "660f2022-308a-49a1-c3b3-e5f8ae9b1506"
      },
      "source": [
        "df['isFraud'].value_counts(normalize=True)"
      ],
      "execution_count": null,
      "outputs": [
        {
          "output_type": "execute_result",
          "data": {
            "text/plain": [
              "False    0.98421\n",
              "True     0.01579\n",
              "Name: isFraud, dtype: float64"
            ]
          },
          "metadata": {},
          "execution_count": 11
        }
      ]
    },
    {
      "cell_type": "markdown",
      "metadata": {
        "id": "OvB-gW8vXzFu"
      },
      "source": [
        "As I mentioned in the data overview, our dataset is extrmely imblanced with only 0.15% positive (fraud) class accounting"
      ]
    },
    {
      "cell_type": "markdown",
      "metadata": {
        "id": "iCkiHbOYYhcH"
      },
      "source": [
        "## Data exploration visulization"
      ]
    },
    {
      "cell_type": "markdown",
      "metadata": {
        "id": "qLC9WjdLcSQ5"
      },
      "source": [
        "### Transaction amount"
      ]
    },
    {
      "cell_type": "markdown",
      "metadata": {
        "id": "6rHcNhX0YsjE"
      },
      "source": [
        "Based on the knowledge from our stakeholders, the transaction amount might have some influence on our response variable, we will dig a little deeper into this artribute by first plotting a histogram of the processed amounts of each transaction, the transactionAmount column"
      ]
    },
    {
      "cell_type": "code",
      "metadata": {
        "colab": {
          "base_uri": "https://localhost:8080/",
          "height": 295
        },
        "id": "0JqIzg-NXxqi",
        "outputId": "86cbb696-f2a2-4bcb-fd76-6d1fbea12bce"
      },
      "source": [
        "transactionAmount = df['transactionAmount'].values\n",
        "plt.hist(transactionAmount, density=True, bins=20)  # density=False would make counts\n",
        "plt.title(\"transactionAmount Distribution\")\n",
        "plt.ylabel('Probability')\n",
        "plt.xlabel('transactionAmount');"
      ],
      "execution_count": null,
      "outputs": [
        {
          "output_type": "display_data",
          "data": {
            "image/png": "[encoded data removed]",
            "text/plain": [
              "<Figure size 432x288 with 1 Axes>"
            ]
          },
          "metadata": {
            "needs_background": "light"
          }
        }
      ]
    },
    {
      "cell_type": "markdown",
      "metadata": {
        "id": "ZMMzJ88eZiSz"
      },
      "source": [
        "Based on the histogram, most of the transactions in the dataset have the transactionAmount smaller than \\$500 and the transaction amount of all records are no greater than \\$1000. "
      ]
    },
    {
      "cell_type": "code",
      "metadata": {
        "colab": {
          "base_uri": "https://localhost:8080/",
          "height": 296
        },
        "id": "pP_STSRGbdnB",
        "outputId": "143f9df5-8c05-4e1b-8c49-148533c0cc60"
      },
      "source": [
        "sns.boxplot(x = 'isFraud', y = 'transactionAmount', data=df)"
      ],
      "execution_count": null,
      "outputs": [
        {
          "output_type": "execute_result",
          "data": {
            "text/plain": [
              "<matplotlib.axes._subplots.AxesSubplot at 0x7f65d1316a90>"
            ]
          },
          "metadata": {},
          "execution_count": 13
        },
        {
          "output_type": "display_data",
          "data": {
            "image/png": "[encoded data removed]",
            "text/plain": [
              "<Figure size 432x288 with 1 Axes>"
            ]
          },
          "metadata": {
            "needs_background": "light"
          }
        }
      ]
    },
    {
      "cell_type": "markdown",
      "metadata": {
        "id": "yC51VY79bZUi"
      },
      "source": [
        "Using this box plot, we can see Fraud transactions are generally greater than normal transaction. Fraud transactions are more variate than normal transaction"
      ]
    },
    {
      "cell_type": "markdown",
      "metadata": {
        "id": "znLQ23kZdVJw"
      },
      "source": [
        "# 3. Data Wrangling\n",
        "\n"
      ]
    },
    {
      "cell_type": "markdown",
      "metadata": {
        "id": "OMnks4Tac0Fh"
      },
      "source": [
        "## Duplicate Transactions"
      ]
    },
    {
      "cell_type": "markdown",
      "metadata": {
        "id": "g5qxR3jqdDw9"
      },
      "source": [
        "I noticed a number of what look like duplicated transactions in the data set. One type of duplicated transaction is a reversed transaction, where a purchase is followed by a reversal. Another example is a multi-swipe, where a vendor accidentally charges a customer's card multiple times within a short time span."
      ]
    },
    {
      "cell_type": "markdown",
      "metadata": {
        "id": "fb-SQnR2dYcf"
      },
      "source": [
        "### Reversal transaction\n",
        "\n",
        "This type of duplicated transaction are already classified in the \"transactionType columns\". So to identify them, we can simply select all transactions that have \"transactionType\" as REVERSAL"
      ]
    },
    {
      "cell_type": "code",
      "metadata": {
        "colab": {
          "base_uri": "https://localhost:8080/"
        },
        "id": "bk5CfYXsc3Pd",
        "outputId": "12508f73-fb22-4515-f64a-dbc5db4786d0"
      },
      "source": [
        "df_reversal = df[df['transactionType']=='REVERSAL']\n",
        "print('There are ', df_reversal.shape[0],' reversal transactions in this dataset')\n",
        "print('The total dollar amount estimated for the reversed transactions is $',df_reversal['transactionAmount'].sum())"
      ],
      "execution_count": null,
      "outputs": [
        {
          "output_type": "stream",
          "name": "stdout",
          "text": [
            "There are  20303  reversal transactions in this dataset\n",
            "The total dollar amount estimated for the reversed transactions is $ 2821792.5\n"
          ]
        }
      ]
    },
    {
      "cell_type": "code",
      "metadata": {
        "colab": {
          "base_uri": "https://localhost:8080/",
          "height": 279
        },
        "id": "EsX8CFyvhXWE",
        "outputId": "62b442a0-0847-4305-fbc4-e6a102c11f97"
      },
      "source": [
        "ax = sns.countplot(x='isFraud', data= df_reversal)"
      ],
      "execution_count": null,
      "outputs": [
        {
          "output_type": "display_data",
          "data": {
            "image/png": "[encoded data removed]",
            "text/plain": [
              "<Figure size 432x288 with 1 Axes>"
            ]
          },
          "metadata": {
            "needs_background": "light"
          }
        }
      ]
    },
    {
      "cell_type": "markdown",
      "metadata": {
        "id": "5NluGGIdfb41"
      },
      "source": [
        "### Multi-swipe transactions"
      ]
    },
    {
      "cell_type": "markdown",
      "metadata": {
        "id": "etW85sQNfddO"
      },
      "source": [
        "For multi-swipe transactions, things are little trickier since those transactions are not labled like reversal transaction, so we need to group transaction by account number and transactionAmount during short time span to identify this type of duplicate transactions. Here I assumed the short time span is 120 seconds"
      ]
    },
    {
      "cell_type": "code",
      "metadata": {
        "id": "54_iwP85d9bV"
      },
      "source": [
        "df['Duplicated'] = (df.sort_values(['transactionDateTime'])\n",
        "                       .groupby(['accountNumber', 'transactionAmount'], sort=False)['transactionDateTime']\n",
        "                       .diff().dt.total_seconds().lt(120))"
      ],
      "execution_count": null,
      "outputs": []
    },
    {
      "cell_type": "code",
      "metadata": {
        "colab": {
          "base_uri": "https://localhost:8080/"
        },
        "id": "rhpJFpJXfbOV",
        "outputId": "8982e7ff-e64f-4ba9-db2e-29effa2fe36a"
      },
      "source": [
        "df_dup = df[df['Duplicated'] == True]\n",
        "print('There are ', df_dup.shape[0],' multi-swipe transactions in this dataset')\n",
        "print('The total dollar amount estimated for the multi-swipe transactions is $',df_dup['transactionAmount'].sum())"
      ],
      "execution_count": null,
      "outputs": [
        {
          "output_type": "stream",
          "name": "stdout",
          "text": [
            "There are  8882  multi-swipe transactions in this dataset\n",
            "The total dollar amount estimated for the multi-swipe transactions is $ 1304345.4100000001\n"
          ]
        }
      ]
    },
    {
      "cell_type": "code",
      "metadata": {
        "colab": {
          "base_uri": "https://localhost:8080/",
          "height": 279
        },
        "id": "TR0s-oq-ht06",
        "outputId": "3d39549a-846a-4ac4-da27-9e5146b5d1a9"
      },
      "source": [
        "ax = sns.countplot(x='isFraud', data= df_dup)"
      ],
      "execution_count": null,
      "outputs": [
        {
          "output_type": "display_data",
          "data": {
            "image/png": "[encoded data removed]",
            "text/plain": [
              "<Figure size 432x288 with 1 Axes>"
            ]
          },
          "metadata": {
            "needs_background": "light"
          }
        }
      ]
    },
    {
      "cell_type": "markdown",
      "metadata": {
        "id": "A4qYJIlFguJm"
      },
      "source": [
        "### Findings about duplicated transaction\n",
        "\n",
        "The data contains only small amout of duplicate transactions comparing to the whole dataset. Based on the distribution of fraud in those cases, there is not so much important information. Thus, beside removing those duplicated transaction, we can remove the transactionType attribute."
      ]
    },
    {
      "cell_type": "markdown",
      "metadata": {
        "id": "437agAzViWBC"
      },
      "source": [
        "## Data Cleaning"
      ]
    },
    {
      "cell_type": "markdown",
      "metadata": {
        "id": "MuHPBAbcofh-"
      },
      "source": [
        "First we remove duplicated transaction and duplicate data as well"
      ]
    },
    {
      "cell_type": "code",
      "metadata": {
        "id": "0yb5VtgHomI6"
      },
      "source": [
        "df_clean = df.copy()"
      ],
      "execution_count": null,
      "outputs": []
    },
    {
      "cell_type": "code",
      "metadata": {
        "colab": {
          "base_uri": "https://localhost:8080/",
          "height": 224
        },
        "id": "qtQPB2-9pPrz",
        "outputId": "f3ff9fa4-3043-43ff-f87d-6378c2d6b7f9"
      },
      "source": [
        "df_clean.head()"
      ],
      "execution_count": null,
      "outputs": [
        {
          "output_type": "execute_result",
          "data": {
            "text/html": [
              "<div>\n",
              "<style scoped>\n",
              "    .dataframe tbody tr th:only-of-type {\n",
              "        vertical-align: middle;\n",
              "    }\n",
              "\n",
              "    .dataframe tbody tr th {\n",
              "        vertical-align: top;\n",
              "    }\n",
              "\n",
              "    .dataframe thead th {\n",
              "        text-align: right;\n",
              "    }\n",
              "</style>\n",
              "<table border=\"1\" class=\"dataframe\">\n",
              "  <thead>\n",
              "    <tr style=\"text-align: right;\">\n",
              "      <th></th>\n",
              "      <th>accountNumber</th>\n",
              "      <th>customerId</th>\n",
              "      <th>creditLimit</th>\n",
              "      <th>availableMoney</th>\n",
              "      <th>transactionDateTime</th>\n",
              "      <th>transactionAmount</th>\n",
              "      <th>merchantName</th>\n",
              "      <th>acqCountry</th>\n",
              "      <th>merchantCountryCode</th>\n",
              "      <th>posEntryMode</th>\n",
              "      <th>posConditionCode</th>\n",
              "      <th>merchantCategoryCode</th>\n",
              "      <th>currentExpDate</th>\n",
              "      <th>accountOpenDate</th>\n",
              "      <th>dateOfLastAddressChange</th>\n",
              "      <th>cardCVV</th>\n",
              "      <th>enteredCVV</th>\n",
              "      <th>cardLast4Digits</th>\n",
              "      <th>transactionType</th>\n",
              "      <th>currentBalance</th>\n",
              "      <th>cardPresent</th>\n",
              "      <th>expirationDateKeyInMatch</th>\n",
              "      <th>isFraud</th>\n",
              "      <th>Duplicated</th>\n",
              "    </tr>\n",
              "  </thead>\n",
              "  <tbody>\n",
              "    <tr>\n",
              "      <th>0</th>\n",
              "      <td>737265056</td>\n",
              "      <td>737265056</td>\n",
              "      <td>5000</td>\n",
              "      <td>5000.0</td>\n",
              "      <td>2016-08-13 14:27:32</td>\n",
              "      <td>98.55</td>\n",
              "      <td>Uber</td>\n",
              "      <td>US</td>\n",
              "      <td>US</td>\n",
              "      <td>02</td>\n",
              "      <td>01</td>\n",
              "      <td>rideshare</td>\n",
              "      <td>2023-06-01</td>\n",
              "      <td>2015-03-14</td>\n",
              "      <td>2015-03-14</td>\n",
              "      <td>414</td>\n",
              "      <td>414</td>\n",
              "      <td>1803</td>\n",
              "      <td>PURCHASE</td>\n",
              "      <td>0.0</td>\n",
              "      <td>False</td>\n",
              "      <td>False</td>\n",
              "      <td>False</td>\n",
              "      <td>False</td>\n",
              "    </tr>\n",
              "    <tr>\n",
              "      <th>1</th>\n",
              "      <td>737265056</td>\n",
              "      <td>737265056</td>\n",
              "      <td>5000</td>\n",
              "      <td>5000.0</td>\n",
              "      <td>2016-10-11 05:05:54</td>\n",
              "      <td>74.51</td>\n",
              "      <td>NaN</td>\n",
              "      <td>US</td>\n",
              "      <td>US</td>\n",
              "      <td>09</td>\n",
              "      <td>01</td>\n",
              "      <td>entertainment</td>\n",
              "      <td>2024-02-01</td>\n",
              "      <td>2015-03-14</td>\n",
              "      <td>2015-03-14</td>\n",
              "      <td>486</td>\n",
              "      <td>486</td>\n",
              "      <td>767</td>\n",
              "      <td>PURCHASE</td>\n",
              "      <td>0.0</td>\n",
              "      <td>True</td>\n",
              "      <td>False</td>\n",
              "      <td>False</td>\n",
              "      <td>False</td>\n",
              "    </tr>\n",
              "    <tr>\n",
              "      <th>2</th>\n",
              "      <td>737265056</td>\n",
              "      <td>737265056</td>\n",
              "      <td>5000</td>\n",
              "      <td>5000.0</td>\n",
              "      <td>2016-11-08 09:18:39</td>\n",
              "      <td>7.47</td>\n",
              "      <td>NaN</td>\n",
              "      <td>US</td>\n",
              "      <td>US</td>\n",
              "      <td>09</td>\n",
              "      <td>01</td>\n",
              "      <td>mobileapps</td>\n",
              "      <td>2025-08-01</td>\n",
              "      <td>2015-03-14</td>\n",
              "      <td>2015-03-14</td>\n",
              "      <td>486</td>\n",
              "      <td>486</td>\n",
              "      <td>767</td>\n",
              "      <td>PURCHASE</td>\n",
              "      <td>0.0</td>\n",
              "      <td>False</td>\n",
              "      <td>False</td>\n",
              "      <td>False</td>\n",
              "      <td>False</td>\n",
              "    </tr>\n",
              "    <tr>\n",
              "      <th>3</th>\n",
              "      <td>737265056</td>\n",
              "      <td>737265056</td>\n",
              "      <td>5000</td>\n",
              "      <td>5000.0</td>\n",
              "      <td>2016-12-10 02:14:50</td>\n",
              "      <td>7.47</td>\n",
              "      <td>NaN</td>\n",
              "      <td>US</td>\n",
              "      <td>US</td>\n",
              "      <td>09</td>\n",
              "      <td>01</td>\n",
              "      <td>mobileapps</td>\n",
              "      <td>2025-08-01</td>\n",
              "      <td>2015-03-14</td>\n",
              "      <td>2015-03-14</td>\n",
              "      <td>486</td>\n",
              "      <td>486</td>\n",
              "      <td>767</td>\n",
              "      <td>PURCHASE</td>\n",
              "      <td>0.0</td>\n",
              "      <td>False</td>\n",
              "      <td>False</td>\n",
              "      <td>False</td>\n",
              "      <td>False</td>\n",
              "    </tr>\n",
              "    <tr>\n",
              "      <th>4</th>\n",
              "      <td>830329091</td>\n",
              "      <td>830329091</td>\n",
              "      <td>5000</td>\n",
              "      <td>5000.0</td>\n",
              "      <td>2016-03-24 21:04:46</td>\n",
              "      <td>71.18</td>\n",
              "      <td>NaN</td>\n",
              "      <td>US</td>\n",
              "      <td>US</td>\n",
              "      <td>02</td>\n",
              "      <td>01</td>\n",
              "      <td>fastfood</td>\n",
              "      <td>2029-10-01</td>\n",
              "      <td>2015-08-06</td>\n",
              "      <td>2015-08-06</td>\n",
              "      <td>885</td>\n",
              "      <td>885</td>\n",
              "      <td>3143</td>\n",
              "      <td>PURCHASE</td>\n",
              "      <td>0.0</td>\n",
              "      <td>True</td>\n",
              "      <td>False</td>\n",
              "      <td>False</td>\n",
              "      <td>False</td>\n",
              "    </tr>\n",
              "  </tbody>\n",
              "</table>\n",
              "</div>"
            ],
            "text/plain": [
              "   accountNumber  customerId  ...  isFraud  Duplicated\n",
              "0      737265056   737265056  ...    False       False\n",
              "1      737265056   737265056  ...    False       False\n",
              "2      737265056   737265056  ...    False       False\n",
              "3      737265056   737265056  ...    False       False\n",
              "4      830329091   830329091  ...    False       False\n",
              "\n",
              "[5 rows x 24 columns]"
            ]
          },
          "metadata": {},
          "execution_count": 20
        }
      ]
    },
    {
      "cell_type": "code",
      "metadata": {
        "id": "gOnbNer1iTwy"
      },
      "source": [
        "df_clean = df_clean.drop_duplicates()\n",
        "df_clean = df_clean.dropna(subset=['transactionType'])\n",
        "df_clean = df_clean[df_clean['transactionType'] != 'REVERSAL'] #Drop reversal transaction\n",
        "df_clean = df_clean[df_clean['Duplicated'] == False] #Drop mutiple transaction\n",
        "df_clean = df_clean.drop(columns=['Duplicated'])"
      ],
      "execution_count": null,
      "outputs": []
    },
    {
      "cell_type": "markdown",
      "metadata": {
        "id": "dfpx4ZSoLSC8"
      },
      "source": [
        "We double check the distribution of transactionType attribute"
      ]
    },
    {
      "cell_type": "code",
      "metadata": {
        "colab": {
          "base_uri": "https://localhost:8080/",
          "height": 297
        },
        "id": "HugqpoDQLvG_",
        "outputId": "c3d27f06-412d-47c6-98f0-b34c1bc638ae"
      },
      "source": [
        "sns.countplot(data=df_clean, x='transactionType', hue='isFraud')"
      ],
      "execution_count": null,
      "outputs": [
        {
          "output_type": "execute_result",
          "data": {
            "text/plain": [
              "<matplotlib.axes._subplots.AxesSubplot at 0x7f65d133af90>"
            ]
          },
          "metadata": {},
          "execution_count": 22
        },
        {
          "output_type": "display_data",
          "data": {
            "image/png": "[encoded data removed]",
            "text/plain": [
              "<Figure size 432x288 with 1 Axes>"
            ]
          },
          "metadata": {
            "needs_background": "light"
          }
        }
      ]
    },
    {
      "cell_type": "markdown",
      "metadata": {
        "id": "Z6pqTOVdMA7B"
      },
      "source": [
        "We can see that this attribute is no longer useful so we can drop it"
      ]
    },
    {
      "cell_type": "code",
      "metadata": {
        "id": "uLQR73CVLRo4"
      },
      "source": [
        "df_clean = df_clean.drop(columns=['transactionType'])"
      ],
      "execution_count": null,
      "outputs": []
    },
    {
      "cell_type": "markdown",
      "metadata": {
        "id": "kpTbWAXYI7zD"
      },
      "source": [
        "We also noticed that accountNumber and customerId are identical and no longer useful for our classification, so we can now drop them"
      ]
    },
    {
      "cell_type": "code",
      "metadata": {
        "id": "9ftiGTKOI7Z0"
      },
      "source": [
        "df_clean = df_clean.drop(columns=['accountNumber','customerId'])"
      ],
      "execution_count": null,
      "outputs": []
    },
    {
      "cell_type": "markdown",
      "metadata": {
        "id": "DJotAE56H6Yk"
      },
      "source": [
        "Now, we hanle date time attribute by transform it to more meaningful attributes, for instance, we transform accountOpenDate to accountAge, dateOfLastAddressChange to monthsLastAddressChange, currentExpDate to dayleft, then drop those old datetime attributes. For the transactionDateTime, I have tried to extract the date and month of that attributes, but it does not have any impact on the model so I will remove it. "
      ]
    },
    {
      "cell_type": "code",
      "metadata": {
        "id": "xQZtlt1WiVTi"
      },
      "source": [
        "#Transform accountOpenDate to account Age in 01-01-2017\n",
        "currentExpDate = pd.to_datetime('2017-01-01')\n",
        "df_clean['accountAge'] = currentExpDate - df_clean['accountOpenDate']\n",
        "df_clean['accountAge']= round(df_clean['accountAge']/np.timedelta64(1,'D')).astype(int)\n",
        "\n",
        "#Transform dateOfLastAddressChange to monthsLastAddressChange\n",
        "df_clean['monthsLastAddressChange'] = currentExpDate - df_clean['dateOfLastAddressChange']\n",
        "df_clean['monthsLastAddressChange']= round(df_clean['monthsLastAddressChange']/np.timedelta64(1,'D')).astype(int)\n",
        "\n",
        "#Transform currentExpDate to day left\n",
        "df_clean['currentToExpDate'] = df_clean['currentExpDate'] - currentExpDate \n",
        "df_clean['currentToExpDate']= round(df_clean['currentToExpDate']/np.timedelta64(1,'D')).astype(int)\n",
        "#df.head()\n",
        "\n",
        "#Drop col \n",
        "df_clean = df_clean.drop(columns=['accountOpenDate','dateOfLastAddressChange','currentExpDate','transactionDateTime'])"
      ],
      "execution_count": null,
      "outputs": []
    },
    {
      "cell_type": "markdown",
      "metadata": {
        "id": "xxi8zfULJrGw"
      },
      "source": [
        "Now we transform cardCVV, enteredCVV to wrong cvv"
      ]
    },
    {
      "cell_type": "code",
      "metadata": {
        "id": "4pxUINjhJp6j"
      },
      "source": [
        "df_clean['wrongCVV'] = df_clean['enteredCVV'] - df_clean['cardCVV']\n",
        "df_clean['wrongCVV'] = np.where(df_clean.wrongCVV != 0, True, False)"
      ],
      "execution_count": null,
      "outputs": []
    },
    {
      "cell_type": "code",
      "metadata": {
        "id": "Mvyx448hQOCK"
      },
      "source": [
        "df_clean = df_clean.drop(columns=['enteredCVV','cardCVV'])"
      ],
      "execution_count": null,
      "outputs": []
    },
    {
      "cell_type": "markdown",
      "metadata": {
        "id": "AESLBMKsJz-T"
      },
      "source": [
        "We drop the cardLast4Digits, since it is a nomial attribute "
      ]
    },
    {
      "cell_type": "code",
      "metadata": {
        "id": "b6Bk3QNxJyop"
      },
      "source": [
        "df_clean = df_clean.drop(columns=['cardLast4Digits'])"
      ],
      "execution_count": null,
      "outputs": []
    },
    {
      "cell_type": "markdown",
      "metadata": {
        "id": "YmWEGJy5SaKJ"
      },
      "source": [
        "Transform merchantName as hasMerchantName since as I mentioned above, this attribute is half missing"
      ]
    },
    {
      "cell_type": "code",
      "metadata": {
        "id": "hdDtv82LShff"
      },
      "source": [
        "df_clean['haveMerchantName'] = np.where(df_clean.merchantName.isna(), False, True)\n",
        "df_clean = df_clean.drop(columns='merchantName')"
      ],
      "execution_count": null,
      "outputs": []
    },
    {
      "cell_type": "markdown",
      "metadata": {
        "id": "PCsSXnOpR-K0"
      },
      "source": [
        "Handle others nan atrbibute by labled them as unknown"
      ]
    },
    {
      "cell_type": "code",
      "metadata": {
        "id": "JfqfZZMASE1-"
      },
      "source": [
        "df_clean['merchantCategoryCode'] = df_clean['merchantCategoryCode'].replace(np.nan, \"unknown\")\n",
        "df_clean['acqCountry'] = df_clean['acqCountry'].replace(np.nan, \"unknown\")\n",
        "df_clean['merchantCountryCode'] = df_clean['merchantCountryCode'].replace(np.nan, \"unknown\")\n",
        "df_clean['posEntryMode'] = df_clean['posEntryMode'].replace(np.nan, \"unknow\")\n",
        "df_clean['posConditionCode'] = df_clean['posConditionCode'].replace(np.nan, \"unknow\")"
      ],
      "execution_count": null,
      "outputs": []
    },
    {
      "cell_type": "markdown",
      "metadata": {
        "id": "WlsxRTZEXfFO"
      },
      "source": [
        "explore others attribute that is not clear like expirationDateKeyInMatch"
      ]
    },
    {
      "cell_type": "code",
      "metadata": {
        "colab": {
          "base_uri": "https://localhost:8080/",
          "height": 296
        },
        "id": "mALiGvjHWrr9",
        "outputId": "2107d88b-defd-4aa7-aa90-1f7476821d5b"
      },
      "source": [
        "sns.countplot(data=df_clean, x='expirationDateKeyInMatch', hue='isFraud')"
      ],
      "execution_count": null,
      "outputs": [
        {
          "output_type": "execute_result",
          "data": {
            "text/plain": [
              "<matplotlib.axes._subplots.AxesSubplot at 0x7f65d136a290>"
            ]
          },
          "metadata": {},
          "execution_count": 31
        },
        {
          "output_type": "display_data",
          "data": {
            "image/png": "[encoded data removed]",
            "text/plain": [
              "<Figure size 432x288 with 1 Axes>"
            ]
          },
          "metadata": {
            "needs_background": "light"
          }
        }
      ]
    },
    {
      "cell_type": "code",
      "metadata": {
        "colab": {
          "base_uri": "https://localhost:8080/",
          "height": 224
        },
        "id": "BSEwsK6vQXsj",
        "outputId": "4f491062-bf37-44fb-b761-46c624840fbf"
      },
      "source": [
        "df_clean = df_clean[['creditLimit', 'availableMoney', 'transactionAmount', 'haveMerchantName',\n",
        "       'acqCountry', 'merchantCountryCode', 'posEntryMode', 'posConditionCode',\n",
        "       'merchantCategoryCode', 'currentBalance',\n",
        "       'cardPresent', 'expirationDateKeyInMatch', 'accountAge',\n",
        "       'monthsLastAddressChange', 'currentToExpDate', 'wrongCVV','isFraud']]\n",
        "df_clean.head()"
      ],
      "execution_count": null,
      "outputs": [
        {
          "output_type": "execute_result",
          "data": {
            "text/html": [
              "<div>\n",
              "<style scoped>\n",
              "    .dataframe tbody tr th:only-of-type {\n",
              "        vertical-align: middle;\n",
              "    }\n",
              "\n",
              "    .dataframe tbody tr th {\n",
              "        vertical-align: top;\n",
              "    }\n",
              "\n",
              "    .dataframe thead th {\n",
              "        text-align: right;\n",
              "    }\n",
              "</style>\n",
              "<table border=\"1\" class=\"dataframe\">\n",
              "  <thead>\n",
              "    <tr style=\"text-align: right;\">\n",
              "      <th></th>\n",
              "      <th>creditLimit</th>\n",
              "      <th>availableMoney</th>\n",
              "      <th>transactionAmount</th>\n",
              "      <th>haveMerchantName</th>\n",
              "      <th>acqCountry</th>\n",
              "      <th>merchantCountryCode</th>\n",
              "      <th>posEntryMode</th>\n",
              "      <th>posConditionCode</th>\n",
              "      <th>merchantCategoryCode</th>\n",
              "      <th>currentBalance</th>\n",
              "      <th>cardPresent</th>\n",
              "      <th>expirationDateKeyInMatch</th>\n",
              "      <th>accountAge</th>\n",
              "      <th>monthsLastAddressChange</th>\n",
              "      <th>currentToExpDate</th>\n",
              "      <th>wrongCVV</th>\n",
              "      <th>isFraud</th>\n",
              "    </tr>\n",
              "  </thead>\n",
              "  <tbody>\n",
              "    <tr>\n",
              "      <th>0</th>\n",
              "      <td>5000</td>\n",
              "      <td>5000.0</td>\n",
              "      <td>98.55</td>\n",
              "      <td>True</td>\n",
              "      <td>US</td>\n",
              "      <td>US</td>\n",
              "      <td>02</td>\n",
              "      <td>01</td>\n",
              "      <td>rideshare</td>\n",
              "      <td>0.0</td>\n",
              "      <td>False</td>\n",
              "      <td>False</td>\n",
              "      <td>659</td>\n",
              "      <td>659</td>\n",
              "      <td>2342</td>\n",
              "      <td>False</td>\n",
              "      <td>False</td>\n",
              "    </tr>\n",
              "    <tr>\n",
              "      <th>1</th>\n",
              "      <td>5000</td>\n",
              "      <td>5000.0</td>\n",
              "      <td>74.51</td>\n",
              "      <td>False</td>\n",
              "      <td>US</td>\n",
              "      <td>US</td>\n",
              "      <td>09</td>\n",
              "      <td>01</td>\n",
              "      <td>entertainment</td>\n",
              "      <td>0.0</td>\n",
              "      <td>True</td>\n",
              "      <td>False</td>\n",
              "      <td>659</td>\n",
              "      <td>659</td>\n",
              "      <td>2587</td>\n",
              "      <td>False</td>\n",
              "      <td>False</td>\n",
              "    </tr>\n",
              "    <tr>\n",
              "      <th>2</th>\n",
              "      <td>5000</td>\n",
              "      <td>5000.0</td>\n",
              "      <td>7.47</td>\n",
              "      <td>False</td>\n",
              "      <td>US</td>\n",
              "      <td>US</td>\n",
              "      <td>09</td>\n",
              "      <td>01</td>\n",
              "      <td>mobileapps</td>\n",
              "      <td>0.0</td>\n",
              "      <td>False</td>\n",
              "      <td>False</td>\n",
              "      <td>659</td>\n",
              "      <td>659</td>\n",
              "      <td>3134</td>\n",
              "      <td>False</td>\n",
              "      <td>False</td>\n",
              "    </tr>\n",
              "    <tr>\n",
              "      <th>3</th>\n",
              "      <td>5000</td>\n",
              "      <td>5000.0</td>\n",
              "      <td>7.47</td>\n",
              "      <td>False</td>\n",
              "      <td>US</td>\n",
              "      <td>US</td>\n",
              "      <td>09</td>\n",
              "      <td>01</td>\n",
              "      <td>mobileapps</td>\n",
              "      <td>0.0</td>\n",
              "      <td>False</td>\n",
              "      <td>False</td>\n",
              "      <td>659</td>\n",
              "      <td>659</td>\n",
              "      <td>3134</td>\n",
              "      <td>False</td>\n",
              "      <td>False</td>\n",
              "    </tr>\n",
              "    <tr>\n",
              "      <th>4</th>\n",
              "      <td>5000</td>\n",
              "      <td>5000.0</td>\n",
              "      <td>71.18</td>\n",
              "      <td>False</td>\n",
              "      <td>US</td>\n",
              "      <td>US</td>\n",
              "      <td>02</td>\n",
              "      <td>01</td>\n",
              "      <td>fastfood</td>\n",
              "      <td>0.0</td>\n",
              "      <td>True</td>\n",
              "      <td>False</td>\n",
              "      <td>514</td>\n",
              "      <td>514</td>\n",
              "      <td>4656</td>\n",
              "      <td>False</td>\n",
              "      <td>False</td>\n",
              "    </tr>\n",
              "  </tbody>\n",
              "</table>\n",
              "</div>"
            ],
            "text/plain": [
              "   creditLimit  availableMoney  ...  wrongCVV  isFraud\n",
              "0         5000          5000.0  ...     False    False\n",
              "1         5000          5000.0  ...     False    False\n",
              "2         5000          5000.0  ...     False    False\n",
              "3         5000          5000.0  ...     False    False\n",
              "4         5000          5000.0  ...     False    False\n",
              "\n",
              "[5 rows x 17 columns]"
            ]
          },
          "metadata": {},
          "execution_count": 32
        }
      ]
    },
    {
      "cell_type": "markdown",
      "metadata": {
        "id": "bTEH2DmgSQur"
      },
      "source": [
        "Stored the df"
      ]
    },
    {
      "cell_type": "code",
      "metadata": {
        "id": "8kT98TiMSQbU"
      },
      "source": [
        "# df_clean.to_csv( \"/content/drive/MyDrive/CapitalOne/transactions_cleanned.csv\", index=False, encoding='utf-8-sig')"
      ],
      "execution_count": null,
      "outputs": []
    },
    {
      "cell_type": "markdown",
      "metadata": {
        "id": "zRMKxpTxQ30L"
      },
      "source": [
        "# 4. EDA"
      ]
    },
    {
      "cell_type": "markdown",
      "metadata": {
        "id": "DuSj18HoOkWo"
      },
      "source": [
        "Now, we will see if those attributes related to our response so we can filter more unrelated attributes"
      ]
    },
    {
      "cell_type": "code",
      "metadata": {
        "colab": {
          "base_uri": "https://localhost:8080/",
          "height": 296
        },
        "id": "9KZUwQDUWoh2",
        "outputId": "4c06d0b6-ae3d-4ab4-b21c-6bad5277eb31"
      },
      "source": [
        "sns.countplot(data=df_clean, x='cardPresent', hue='isFraud')"
      ],
      "execution_count": null,
      "outputs": [
        {
          "output_type": "execute_result",
          "data": {
            "text/plain": [
              "<matplotlib.axes._subplots.AxesSubplot at 0x7f65d12ed710>"
            ]
          },
          "metadata": {},
          "execution_count": 34
        },
        {
          "output_type": "display_data",
          "data": {
            "image/png": "[encoded data removed]",
            "text/plain": [
              "<Figure size 432x288 with 1 Axes>"
            ]
          },
          "metadata": {
            "needs_background": "light"
          }
        }
      ]
    },
    {
      "cell_type": "code",
      "metadata": {
        "colab": {
          "base_uri": "https://localhost:8080/",
          "height": 296
        },
        "id": "MXQ9tkH2WMU4",
        "outputId": "f7a94312-bc5f-4423-877c-990c01512335"
      },
      "source": [
        "sns.countplot(data=df_clean, x='wrongCVV', hue='isFraud')"
      ],
      "execution_count": null,
      "outputs": [
        {
          "output_type": "execute_result",
          "data": {
            "text/plain": [
              "<matplotlib.axes._subplots.AxesSubplot at 0x7f65d1307d50>"
            ]
          },
          "metadata": {},
          "execution_count": 35
        },
        {
          "output_type": "display_data",
          "data": {
            "image/png": "[encoded data removed]",
            "text/plain": [
              "<Figure size 432x288 with 1 Axes>"
            ]
          },
          "metadata": {
            "needs_background": "light"
          }
        }
      ]
    },
    {
      "cell_type": "markdown",
      "metadata": {
        "id": "Rt3DYdH6PPI4"
      },
      "source": [
        "wrongCVV seems not to work"
      ]
    },
    {
      "cell_type": "code",
      "metadata": {
        "colab": {
          "base_uri": "https://localhost:8080/",
          "height": 296
        },
        "id": "EeN5aPI-VjVJ",
        "outputId": "86b85bc5-b443-4994-8d6f-95f9762af7e5"
      },
      "source": [
        "sns.countplot(data=df_clean, x='posEntryMode', hue='isFraud')"
      ],
      "execution_count": null,
      "outputs": [
        {
          "output_type": "execute_result",
          "data": {
            "text/plain": [
              "<matplotlib.axes._subplots.AxesSubplot at 0x7f65d12a1fd0>"
            ]
          },
          "metadata": {},
          "execution_count": 36
        },
        {
          "output_type": "display_data",
          "data": {
            "image/png": "[encoded data removed]",
            "text/plain": [
              "<Figure size 432x288 with 1 Axes>"
            ]
          },
          "metadata": {
            "needs_background": "light"
          }
        }
      ]
    },
    {
      "cell_type": "markdown",
      "metadata": {
        "id": "V4uJmhk7PUMr"
      },
      "source": [
        "Most of entry methods are 02, 09, 05"
      ]
    },
    {
      "cell_type": "code",
      "metadata": {
        "colab": {
          "base_uri": "https://localhost:8080/",
          "height": 296
        },
        "id": "hSEaforPRtsY",
        "outputId": "7108d580-44c0-476e-e26b-042bb37a3290"
      },
      "source": [
        "sns.countplot(data=df_clean, x='acqCountry', hue='isFraud')"
      ],
      "execution_count": null,
      "outputs": [
        {
          "output_type": "execute_result",
          "data": {
            "text/plain": [
              "<matplotlib.axes._subplots.AxesSubplot at 0x7f65d12b9dd0>"
            ]
          },
          "metadata": {},
          "execution_count": 37
        },
        {
          "output_type": "display_data",
          "data": {
            "image/png": "[encoded data removed]",
            "text/plain": [
              "<Figure size 432x288 with 1 Axes>"
            ]
          },
          "metadata": {
            "needs_background": "light"
          }
        }
      ]
    },
    {
      "cell_type": "markdown",
      "metadata": {
        "id": "gREupiMSPYy_"
      },
      "source": [
        "acqCountry also does not work"
      ]
    },
    {
      "cell_type": "code",
      "metadata": {
        "colab": {
          "base_uri": "https://localhost:8080/",
          "height": 296
        },
        "id": "PCobc92KRpak",
        "outputId": "67854cfd-5937-4a8b-d007-bc32a0d00332"
      },
      "source": [
        "sns.countplot(data=df_clean, x='posConditionCode', hue='isFraud')"
      ],
      "execution_count": null,
      "outputs": [
        {
          "output_type": "execute_result",
          "data": {
            "text/plain": [
              "<matplotlib.axes._subplots.AxesSubplot at 0x7f65d12cce90>"
            ]
          },
          "metadata": {},
          "execution_count": 38
        },
        {
          "output_type": "display_data",
          "data": {
            "image/png": "[encoded data removed]",
            "text/plain": [
              "<Figure size 432x288 with 1 Axes>"
            ]
          },
          "metadata": {
            "needs_background": "light"
          }
        }
      ]
    },
    {
      "cell_type": "code",
      "metadata": {
        "colab": {
          "base_uri": "https://localhost:8080/",
          "height": 907
        },
        "id": "7CvHVrzoRFuo",
        "outputId": "b080ab3c-c87d-44d9-f51f-af567651851c"
      },
      "source": [
        "def correlation_heatmap(df):\n",
        "    _ , ax = plt.subplots(figsize =(16, 14))\n",
        "    colormap = sns.diverging_palette(220, 10, as_cmap = True)\n",
        "    \n",
        "    _ = sns.heatmap(\n",
        "        df.corr(), \n",
        "        cmap = colormap,\n",
        "        square=True, \n",
        "        cbar_kws={'shrink':.9 }, \n",
        "        ax=ax,\n",
        "        annot=True, \n",
        "        linewidths=0.1,vmax=1.0, linecolor='white',\n",
        "        annot_kws={'fontsize':12 }\n",
        "    )\n",
        "    \n",
        "    plt.title('Pearson Correlation of Features', y=1.05, size=15)\n",
        "\n",
        "correlation_heatmap(df_clean)"
      ],
      "execution_count": null,
      "outputs": [
        {
          "output_type": "display_data",
          "data": {
            "image/png": "[encoded data removed]",
            "text/plain": [
              "<Figure size 1152x1008 with 2 Axes>"
            ]
          },
          "metadata": {
            "needs_background": "light"
          }
        }
      ]
    },
    {
      "cell_type": "markdown",
      "metadata": {
        "id": "RlkcBQyA8I6X"
      },
      "source": [
        "Based on this graph and previous histogram plots we can drop that creditLimit availableMoney, acqCountry, and wrongCVV"
      ]
    },
    {
      "cell_type": "code",
      "metadata": {
        "id": "ibjRavMz8YCs"
      },
      "source": [
        "df_clean = df_clean.drop(columns=['creditLimit','availableMoney','acqCountry','wrongCVV'])"
      ],
      "execution_count": null,
      "outputs": []
    },
    {
      "cell_type": "markdown",
      "metadata": {
        "id": "k0_CMEqwXw4i"
      },
      "source": [
        "Overall we can see the main problem is that, the data is unbalanced,...\n",
        "We will build model to around t"
      ]
    },
    {
      "cell_type": "markdown",
      "metadata": {
        "id": "Y_5czx2Sgu6o"
      },
      "source": [
        "# 5. Model"
      ]
    },
    {
      "cell_type": "markdown",
      "metadata": {
        "id": "9P3p8MO8yUhz"
      },
      "source": [
        "In this section, I will implement different predictive model to determine whether a given transaction will be fraudulent or not. This is a binary classification problem. Since the dataset is extremely unblanced, with limited time, I will focus on Decision Tree models and its relative such as Random Forests, XGBoost, and LightGBM."
      ]
    },
    {
      "cell_type": "markdown",
      "metadata": {
        "id": "5Dtw492q57UW"
      },
      "source": [
        "## Transform data"
      ]
    },
    {
      "cell_type": "markdown",
      "metadata": {
        "id": "1RhEfWu_5-ii"
      },
      "source": [
        "The first step is to make our dataset more machine learning ready by encoding categorical attributes and normalize numerical attributes"
      ]
    },
    {
      "cell_type": "code",
      "metadata": {
        "colab": {
          "base_uri": "https://localhost:8080/",
          "height": 224
        },
        "id": "3bSzGOpO6B-1",
        "outputId": "79f82358-2984-4565-9c83-33282e14767e"
      },
      "source": [
        "df_ml = df_clean.copy()\n",
        "df_ml.head()"
      ],
      "execution_count": null,
      "outputs": [
        {
          "output_type": "execute_result",
          "data": {
            "text/html": [
              "<div>\n",
              "<style scoped>\n",
              "    .dataframe tbody tr th:only-of-type {\n",
              "        vertical-align: middle;\n",
              "    }\n",
              "\n",
              "    .dataframe tbody tr th {\n",
              "        vertical-align: top;\n",
              "    }\n",
              "\n",
              "    .dataframe thead th {\n",
              "        text-align: right;\n",
              "    }\n",
              "</style>\n",
              "<table border=\"1\" class=\"dataframe\">\n",
              "  <thead>\n",
              "    <tr style=\"text-align: right;\">\n",
              "      <th></th>\n",
              "      <th>transactionAmount</th>\n",
              "      <th>haveMerchantName</th>\n",
              "      <th>merchantCountryCode</th>\n",
              "      <th>posEntryMode</th>\n",
              "      <th>posConditionCode</th>\n",
              "      <th>merchantCategoryCode</th>\n",
              "      <th>currentBalance</th>\n",
              "      <th>cardPresent</th>\n",
              "      <th>expirationDateKeyInMatch</th>\n",
              "      <th>accountAge</th>\n",
              "      <th>monthsLastAddressChange</th>\n",
              "      <th>currentToExpDate</th>\n",
              "      <th>isFraud</th>\n",
              "    </tr>\n",
              "  </thead>\n",
              "  <tbody>\n",
              "    <tr>\n",
              "      <th>0</th>\n",
              "      <td>98.55</td>\n",
              "      <td>True</td>\n",
              "      <td>US</td>\n",
              "      <td>02</td>\n",
              "      <td>01</td>\n",
              "      <td>rideshare</td>\n",
              "      <td>0.0</td>\n",
              "      <td>False</td>\n",
              "      <td>False</td>\n",
              "      <td>659</td>\n",
              "      <td>659</td>\n",
              "      <td>2342</td>\n",
              "      <td>False</td>\n",
              "    </tr>\n",
              "    <tr>\n",
              "      <th>1</th>\n",
              "      <td>74.51</td>\n",
              "      <td>False</td>\n",
              "      <td>US</td>\n",
              "      <td>09</td>\n",
              "      <td>01</td>\n",
              "      <td>entertainment</td>\n",
              "      <td>0.0</td>\n",
              "      <td>True</td>\n",
              "      <td>False</td>\n",
              "      <td>659</td>\n",
              "      <td>659</td>\n",
              "      <td>2587</td>\n",
              "      <td>False</td>\n",
              "    </tr>\n",
              "    <tr>\n",
              "      <th>2</th>\n",
              "      <td>7.47</td>\n",
              "      <td>False</td>\n",
              "      <td>US</td>\n",
              "      <td>09</td>\n",
              "      <td>01</td>\n",
              "      <td>mobileapps</td>\n",
              "      <td>0.0</td>\n",
              "      <td>False</td>\n",
              "      <td>False</td>\n",
              "      <td>659</td>\n",
              "      <td>659</td>\n",
              "      <td>3134</td>\n",
              "      <td>False</td>\n",
              "    </tr>\n",
              "    <tr>\n",
              "      <th>3</th>\n",
              "      <td>7.47</td>\n",
              "      <td>False</td>\n",
              "      <td>US</td>\n",
              "      <td>09</td>\n",
              "      <td>01</td>\n",
              "      <td>mobileapps</td>\n",
              "      <td>0.0</td>\n",
              "      <td>False</td>\n",
              "      <td>False</td>\n",
              "      <td>659</td>\n",
              "      <td>659</td>\n",
              "      <td>3134</td>\n",
              "      <td>False</td>\n",
              "    </tr>\n",
              "    <tr>\n",
              "      <th>4</th>\n",
              "      <td>71.18</td>\n",
              "      <td>False</td>\n",
              "      <td>US</td>\n",
              "      <td>02</td>\n",
              "      <td>01</td>\n",
              "      <td>fastfood</td>\n",
              "      <td>0.0</td>\n",
              "      <td>True</td>\n",
              "      <td>False</td>\n",
              "      <td>514</td>\n",
              "      <td>514</td>\n",
              "      <td>4656</td>\n",
              "      <td>False</td>\n",
              "    </tr>\n",
              "  </tbody>\n",
              "</table>\n",
              "</div>"
            ],
            "text/plain": [
              "   transactionAmount  haveMerchantName  ... currentToExpDate isFraud\n",
              "0              98.55              True  ...             2342   False\n",
              "1              74.51             False  ...             2587   False\n",
              "2               7.47             False  ...             3134   False\n",
              "3               7.47             False  ...             3134   False\n",
              "4              71.18             False  ...             4656   False\n",
              "\n",
              "[5 rows x 13 columns]"
            ]
          },
          "metadata": {},
          "execution_count": 41
        }
      ]
    },
    {
      "cell_type": "markdown",
      "metadata": {
        "id": "fvKHoo1l915m"
      },
      "source": [
        "Encode (convert each categorical value into a new categorical column and assign a binary value of 1 or 0 to those columns.) categorical attributes using get_dummies"
      ]
    },
    {
      "cell_type": "code",
      "metadata": {
        "id": "xo2pi6M259xt"
      },
      "source": [
        "df_ml = pd.get_dummies(df_ml, columns=['merchantCountryCode','posEntryMode','posConditionCode','merchantCategoryCode'])"
      ],
      "execution_count": null,
      "outputs": []
    },
    {
      "cell_type": "markdown",
      "metadata": {
        "id": "sP8mf3Bi-tRu"
      },
      "source": [
        "Then, we transform bolean attribute to 1-0 "
      ]
    },
    {
      "cell_type": "code",
      "metadata": {
        "id": "K1SBTJnA-1vR"
      },
      "source": [
        "df_ml[\"cardPresent\"] = df_ml[\"cardPresent\"].astype(int)\n",
        "df_ml[\"expirationDateKeyInMatch\"] = df_ml[\"expirationDateKeyInMatch\"].astype(int)\n",
        "df_ml[\"haveMerchantName\"] = df_ml[\"haveMerchantName\"].astype(int)\n",
        "# df_ml[\"wrongCVV\"] = df_ml[\"wrongCVV\"].astype(int)\n",
        "df_ml[\"isFraud\"] = df_ml[\"isFraud\"].astype(int)\n"
      ],
      "execution_count": null,
      "outputs": []
    },
    {
      "cell_type": "code",
      "metadata": {
        "colab": {
          "base_uri": "https://localhost:8080/",
          "height": 224
        },
        "id": "GJkmgboARlcS",
        "outputId": "affd0652-9e97-4ee2-be02-ff88d7a45736"
      },
      "source": [
        "df_ml.head()"
      ],
      "execution_count": null,
      "outputs": [
        {
          "output_type": "execute_result",
          "data": {
            "text/html": [
              "<div>\n",
              "<style scoped>\n",
              "    .dataframe tbody tr th:only-of-type {\n",
              "        vertical-align: middle;\n",
              "    }\n",
              "\n",
              "    .dataframe tbody tr th {\n",
              "        vertical-align: top;\n",
              "    }\n",
              "\n",
              "    .dataframe thead th {\n",
              "        text-align: right;\n",
              "    }\n",
              "</style>\n",
              "<table border=\"1\" class=\"dataframe\">\n",
              "  <thead>\n",
              "    <tr style=\"text-align: right;\">\n",
              "      <th></th>\n",
              "      <th>transactionAmount</th>\n",
              "      <th>haveMerchantName</th>\n",
              "      <th>currentBalance</th>\n",
              "      <th>cardPresent</th>\n",
              "      <th>expirationDateKeyInMatch</th>\n",
              "      <th>accountAge</th>\n",
              "      <th>monthsLastAddressChange</th>\n",
              "      <th>currentToExpDate</th>\n",
              "      <th>isFraud</th>\n",
              "      <th>merchantCountryCode_CAN</th>\n",
              "      <th>merchantCountryCode_MEX</th>\n",
              "      <th>merchantCountryCode_PR</th>\n",
              "      <th>merchantCountryCode_US</th>\n",
              "      <th>merchantCountryCode_unknown</th>\n",
              "      <th>posEntryMode_02</th>\n",
              "      <th>posEntryMode_05</th>\n",
              "      <th>posEntryMode_09</th>\n",
              "      <th>posEntryMode_80</th>\n",
              "      <th>posEntryMode_90</th>\n",
              "      <th>posEntryMode_unknow</th>\n",
              "      <th>posConditionCode_01</th>\n",
              "      <th>posConditionCode_08</th>\n",
              "      <th>posConditionCode_99</th>\n",
              "      <th>posConditionCode_unknow</th>\n",
              "      <th>merchantCategoryCode_airline</th>\n",
              "      <th>merchantCategoryCode_auto</th>\n",
              "      <th>merchantCategoryCode_cable/phone</th>\n",
              "      <th>merchantCategoryCode_entertainment</th>\n",
              "      <th>merchantCategoryCode_fastfood</th>\n",
              "      <th>merchantCategoryCode_food</th>\n",
              "      <th>merchantCategoryCode_food_delivery</th>\n",
              "      <th>merchantCategoryCode_fuel</th>\n",
              "      <th>merchantCategoryCode_furniture</th>\n",
              "      <th>merchantCategoryCode_gym</th>\n",
              "      <th>merchantCategoryCode_health</th>\n",
              "      <th>merchantCategoryCode_hotels</th>\n",
              "      <th>merchantCategoryCode_mobileapps</th>\n",
              "      <th>merchantCategoryCode_online_gifts</th>\n",
              "      <th>merchantCategoryCode_online_retail</th>\n",
              "      <th>merchantCategoryCode_online_subscriptions</th>\n",
              "      <th>merchantCategoryCode_rideshare</th>\n",
              "      <th>merchantCategoryCode_subscriptions</th>\n",
              "      <th>merchantCategoryCode_unknown</th>\n",
              "    </tr>\n",
              "  </thead>\n",
              "  <tbody>\n",
              "    <tr>\n",
              "      <th>0</th>\n",
              "      <td>98.55</td>\n",
              "      <td>1</td>\n",
              "      <td>0.0</td>\n",
              "      <td>0</td>\n",
              "      <td>0</td>\n",
              "      <td>659</td>\n",
              "      <td>659</td>\n",
              "      <td>2342</td>\n",
              "      <td>0</td>\n",
              "      <td>0</td>\n",
              "      <td>0</td>\n",
              "      <td>0</td>\n",
              "      <td>1</td>\n",
              "      <td>0</td>\n",
              "      <td>1</td>\n",
              "      <td>0</td>\n",
              "      <td>0</td>\n",
              "      <td>0</td>\n",
              "      <td>0</td>\n",
              "      <td>0</td>\n",
              "      <td>1</td>\n",
              "      <td>0</td>\n",
              "      <td>0</td>\n",
              "      <td>0</td>\n",
              "      <td>0</td>\n",
              "      <td>0</td>\n",
              "      <td>0</td>\n",
              "      <td>0</td>\n",
              "      <td>0</td>\n",
              "      <td>0</td>\n",
              "      <td>0</td>\n",
              "      <td>0</td>\n",
              "      <td>0</td>\n",
              "      <td>0</td>\n",
              "      <td>0</td>\n",
              "      <td>0</td>\n",
              "      <td>0</td>\n",
              "      <td>0</td>\n",
              "      <td>0</td>\n",
              "      <td>0</td>\n",
              "      <td>1</td>\n",
              "      <td>0</td>\n",
              "      <td>0</td>\n",
              "    </tr>\n",
              "    <tr>\n",
              "      <th>1</th>\n",
              "      <td>74.51</td>\n",
              "      <td>0</td>\n",
              "      <td>0.0</td>\n",
              "      <td>1</td>\n",
              "      <td>0</td>\n",
              "      <td>659</td>\n",
              "      <td>659</td>\n",
              "      <td>2587</td>\n",
              "      <td>0</td>\n",
              "      <td>0</td>\n",
              "      <td>0</td>\n",
              "      <td>0</td>\n",
              "      <td>1</td>\n",
              "      <td>0</td>\n",
              "      <td>0</td>\n",
              "      <td>0</td>\n",
              "      <td>1</td>\n",
              "      <td>0</td>\n",
              "      <td>0</td>\n",
              "      <td>0</td>\n",
              "      <td>1</td>\n",
              "      <td>0</td>\n",
              "      <td>0</td>\n",
              "      <td>0</td>\n",
              "      <td>0</td>\n",
              "      <td>0</td>\n",
              "      <td>0</td>\n",
              "      <td>1</td>\n",
              "      <td>0</td>\n",
              "      <td>0</td>\n",
              "      <td>0</td>\n",
              "      <td>0</td>\n",
              "      <td>0</td>\n",
              "      <td>0</td>\n",
              "      <td>0</td>\n",
              "      <td>0</td>\n",
              "      <td>0</td>\n",
              "      <td>0</td>\n",
              "      <td>0</td>\n",
              "      <td>0</td>\n",
              "      <td>0</td>\n",
              "      <td>0</td>\n",
              "      <td>0</td>\n",
              "    </tr>\n",
              "    <tr>\n",
              "      <th>2</th>\n",
              "      <td>7.47</td>\n",
              "      <td>0</td>\n",
              "      <td>0.0</td>\n",
              "      <td>0</td>\n",
              "      <td>0</td>\n",
              "      <td>659</td>\n",
              "      <td>659</td>\n",
              "      <td>3134</td>\n",
              "      <td>0</td>\n",
              "      <td>0</td>\n",
              "      <td>0</td>\n",
              "      <td>0</td>\n",
              "      <td>1</td>\n",
              "      <td>0</td>\n",
              "      <td>0</td>\n",
              "      <td>0</td>\n",
              "      <td>1</td>\n",
              "      <td>0</td>\n",
              "      <td>0</td>\n",
              "      <td>0</td>\n",
              "      <td>1</td>\n",
              "      <td>0</td>\n",
              "      <td>0</td>\n",
              "      <td>0</td>\n",
              "      <td>0</td>\n",
              "      <td>0</td>\n",
              "      <td>0</td>\n",
              "      <td>0</td>\n",
              "      <td>0</td>\n",
              "      <td>0</td>\n",
              "      <td>0</td>\n",
              "      <td>0</td>\n",
              "      <td>0</td>\n",
              "      <td>0</td>\n",
              "      <td>0</td>\n",
              "      <td>0</td>\n",
              "      <td>1</td>\n",
              "      <td>0</td>\n",
              "      <td>0</td>\n",
              "      <td>0</td>\n",
              "      <td>0</td>\n",
              "      <td>0</td>\n",
              "      <td>0</td>\n",
              "    </tr>\n",
              "    <tr>\n",
              "      <th>3</th>\n",
              "      <td>7.47</td>\n",
              "      <td>0</td>\n",
              "      <td>0.0</td>\n",
              "      <td>0</td>\n",
              "      <td>0</td>\n",
              "      <td>659</td>\n",
              "      <td>659</td>\n",
              "      <td>3134</td>\n",
              "      <td>0</td>\n",
              "      <td>0</td>\n",
              "      <td>0</td>\n",
              "      <td>0</td>\n",
              "      <td>1</td>\n",
              "      <td>0</td>\n",
              "      <td>0</td>\n",
              "      <td>0</td>\n",
              "      <td>1</td>\n",
              "      <td>0</td>\n",
              "      <td>0</td>\n",
              "      <td>0</td>\n",
              "      <td>1</td>\n",
              "      <td>0</td>\n",
              "      <td>0</td>\n",
              "      <td>0</td>\n",
              "      <td>0</td>\n",
              "      <td>0</td>\n",
              "      <td>0</td>\n",
              "      <td>0</td>\n",
              "      <td>0</td>\n",
              "      <td>0</td>\n",
              "      <td>0</td>\n",
              "      <td>0</td>\n",
              "      <td>0</td>\n",
              "      <td>0</td>\n",
              "      <td>0</td>\n",
              "      <td>0</td>\n",
              "      <td>1</td>\n",
              "      <td>0</td>\n",
              "      <td>0</td>\n",
              "      <td>0</td>\n",
              "      <td>0</td>\n",
              "      <td>0</td>\n",
              "      <td>0</td>\n",
              "    </tr>\n",
              "    <tr>\n",
              "      <th>4</th>\n",
              "      <td>71.18</td>\n",
              "      <td>0</td>\n",
              "      <td>0.0</td>\n",
              "      <td>1</td>\n",
              "      <td>0</td>\n",
              "      <td>514</td>\n",
              "      <td>514</td>\n",
              "      <td>4656</td>\n",
              "      <td>0</td>\n",
              "      <td>0</td>\n",
              "      <td>0</td>\n",
              "      <td>0</td>\n",
              "      <td>1</td>\n",
              "      <td>0</td>\n",
              "      <td>1</td>\n",
              "      <td>0</td>\n",
              "      <td>0</td>\n",
              "      <td>0</td>\n",
              "      <td>0</td>\n",
              "      <td>0</td>\n",
              "      <td>1</td>\n",
              "      <td>0</td>\n",
              "      <td>0</td>\n",
              "      <td>0</td>\n",
              "      <td>0</td>\n",
              "      <td>0</td>\n",
              "      <td>0</td>\n",
              "      <td>0</td>\n",
              "      <td>1</td>\n",
              "      <td>0</td>\n",
              "      <td>0</td>\n",
              "      <td>0</td>\n",
              "      <td>0</td>\n",
              "      <td>0</td>\n",
              "      <td>0</td>\n",
              "      <td>0</td>\n",
              "      <td>0</td>\n",
              "      <td>0</td>\n",
              "      <td>0</td>\n",
              "      <td>0</td>\n",
              "      <td>0</td>\n",
              "      <td>0</td>\n",
              "      <td>0</td>\n",
              "    </tr>\n",
              "  </tbody>\n",
              "</table>\n",
              "</div>"
            ],
            "text/plain": [
              "   transactionAmount  ...  merchantCategoryCode_unknown\n",
              "0              98.55  ...                             0\n",
              "1              74.51  ...                             0\n",
              "2               7.47  ...                             0\n",
              "3               7.47  ...                             0\n",
              "4              71.18  ...                             0\n",
              "\n",
              "[5 rows x 43 columns]"
            ]
          },
          "metadata": {},
          "execution_count": 44
        }
      ]
    },
    {
      "cell_type": "markdown",
      "metadata": {
        "id": "oO9c52nF_wAZ"
      },
      "source": [
        "Finally, we split the data into training and testing data. Here I will split 80% for training set and 20% for testing"
      ]
    },
    {
      "cell_type": "code",
      "metadata": {
        "id": "6fLIoNH3_tHq"
      },
      "source": [
        "from sklearn.model_selection import train_test_split\n",
        "\n",
        "X = df_ml.drop('isFraud', axis=1)\n",
        "y = df_ml['isFraud']\n",
        "\n",
        "X_train, X_test, y_train, y_test = train_test_split(X, y, test_size=0.20, random_state=30)"
      ],
      "execution_count": null,
      "outputs": []
    },
    {
      "cell_type": "markdown",
      "metadata": {
        "id": "SCaYk0cH89M3"
      },
      "source": [
        "Standardize numerical attributes (mean as 0 and standard deviation as 1) using StandardScaler. We will fit on the training set and transform it for both training and testing to avoid data leakage"
      ]
    },
    {
      "cell_type": "code",
      "metadata": {
        "id": "FHPz_yVQ6LsM"
      },
      "source": [
        "from sklearn.compose import ColumnTransformer\n",
        "from sklearn.preprocessing import StandardScaler\n",
        "\n",
        "num_col_names = ['transactionAmount','currentBalance','accountAge','monthsLastAddressChange','currentToExpDate']\n",
        "num_features = X_train[num_col_names]\n",
        "test_num_features = X_test[num_col_names]\n",
        "\n",
        "ct = ColumnTransformer([\n",
        "        ('somename', StandardScaler(), ['transactionAmount', 'currentBalance','accountAge','monthsLastAddressChange','currentToExpDate'])\n",
        "    ], remainder='passthrough')\n",
        "\n",
        "features = ct.fit_transform(num_features)\n",
        "test_feature = ct.transform(test_num_features)\n",
        "X_train[num_col_names] = features\n",
        "X_test[num_col_names] = test_feature"
      ],
      "execution_count": null,
      "outputs": []
    },
    {
      "cell_type": "markdown",
      "metadata": {
        "id": "PhRgk6Zn-9oN"
      },
      "source": [
        "## Models"
      ]
    },
    {
      "cell_type": "code",
      "metadata": {
        "id": "OSQZhsX3-049"
      },
      "source": [
        "# Import some evaluation functions\n",
        "from sklearn.metrics import confusion_matrix, accuracy_score, balanced_accuracy_score,roc_auc_score, classification_report, recall_score, f1_score\n",
        "from sklearn.metrics import plot_precision_recall_curve, precision_recall_curve, plot_roc_curve, roc_curve, plot_confusion_matrix"
      ],
      "execution_count": null,
      "outputs": []
    },
    {
      "cell_type": "code",
      "metadata": {
        "id": "Q9a1jZtQGEzH"
      },
      "source": [
        "#Common Model Algorithms\n",
        "from sklearn import svm, tree, linear_model, neighbors, naive_bayes, ensemble, discriminant_analysis, gaussian_process\n",
        "from xgboost import XGBClassifier\n",
        "\n",
        "#Common Model Helpers\n",
        "from sklearn.preprocessing import OneHotEncoder, LabelEncoder\n",
        "from sklearn import feature_selection\n",
        "from sklearn import model_selection\n",
        "from sklearn import metrics"
      ],
      "execution_count": null,
      "outputs": []
    },
    {
      "cell_type": "code",
      "metadata": {
        "id": "6ky2JLpZFf_7"
      },
      "source": [
        "models = ['DT','RF','XGB','LGBM']\n",
        "balanced_accuracy = []"
      ],
      "execution_count": null,
      "outputs": []
    },
    {
      "cell_type": "markdown",
      "metadata": {
        "id": "4dj5AGJa_MDw"
      },
      "source": [
        "### Decision Tree"
      ]
    },
    {
      "cell_type": "markdown",
      "metadata": {
        "id": "zC4tiEmn_Tmn"
      },
      "source": [
        "First, we will try to implement the most basic model - decision tree."
      ]
    },
    {
      "cell_type": "code",
      "metadata": {
        "colab": {
          "base_uri": "https://localhost:8080/",
          "height": 432
        },
        "id": "0mipR3yj_EDY",
        "outputId": "05622460-c504-4d1f-d304-f4c7a81a23e9"
      },
      "source": [
        "from sklearn.tree import DecisionTreeClassifier         \n",
        "weights = {0:0.01, 1:9.99}\n",
        "decision_tree_model = DecisionTreeClassifier(class_weight=weights)\n",
        "decision_tree_model.fit(X_train, y_train)\n",
        "dt_pred = decision_tree_model.predict(X_test)\n",
        "\n",
        "plot_confusion_matrix(decision_tree_model, X_test, y_test, values_format = '', \n",
        "                      display_labels=['Not Fraud', 'Fraud'])\n",
        "plt.grid(None)\n",
        "print(classification_report(y_test, dt_pred, zero_division=0))\n",
        "\n",
        "balanced_accuracy.append(balanced_accuracy_score(y_test, dt_pred))"
      ],
      "execution_count": null,
      "outputs": [
        {
          "output_type": "stream",
          "name": "stdout",
          "text": [
            "              precision    recall  f1-score   support\n",
            "\n",
            "           0       0.98      0.99      0.99    149625\n",
            "           1       0.07      0.06      0.06      2438\n",
            "\n",
            "    accuracy                           0.97    152063\n",
            "   macro avg       0.53      0.52      0.52    152063\n",
            "weighted avg       0.97      0.97      0.97    152063\n",
            "\n"
          ]
        },
        {
          "output_type": "display_data",
          "data": {
            "image/png": "[encoded data removed]",
            "text/plain": [
              "<Figure size 432x288 with 2 Axes>"
            ]
          },
          "metadata": {
            "needs_background": "light"
          }
        }
      ]
    },
    {
      "cell_type": "markdown",
      "metadata": {
        "id": "g2iXgZOvAG5o"
      },
      "source": [
        "Although the accuracy is high, the low 0.05 recall score on the 1 label show that the True positve is very low. In this problem, we should focus more on transaction that high true positive. "
      ]
    },
    {
      "cell_type": "markdown",
      "metadata": {
        "id": "U4_kvbOaAGqE"
      },
      "source": [
        "### Random Forest"
      ]
    },
    {
      "cell_type": "markdown",
      "metadata": {
        "id": "rCUtK03eAoLe"
      },
      "source": [
        "Random Forest is..."
      ]
    },
    {
      "cell_type": "code",
      "metadata": {
        "colab": {
          "base_uri": "https://localhost:8080/",
          "height": 432
        },
        "id": "__ecqv7sAm_-",
        "outputId": "22b78013-ab61-46a1-c3ec-6d1adc2ba863"
      },
      "source": [
        "from sklearn.ensemble import RandomForestClassifier\n",
        "\n",
        "rf = RandomForestClassifier()\n",
        "rf.fit(X_train, y_train)\n",
        "rf_pred = rf.predict(X_test)\n",
        "\n",
        "plot_confusion_matrix(rf, X_test, y_test, values_format = '', \n",
        "                      display_labels=['Not Fraud', 'Fraud'])\n",
        "plt.grid(None)\n",
        "print(classification_report(y_test, rf_pred, zero_division=0))\n",
        "\n",
        "balanced_accuracy.append(balanced_accuracy_score(y_test, rf_pred))"
      ],
      "execution_count": null,
      "outputs": [
        {
          "output_type": "stream",
          "name": "stdout",
          "text": [
            "              precision    recall  f1-score   support\n",
            "\n",
            "           0       0.98      1.00      0.99    149625\n",
            "           1       0.41      0.00      0.01      2438\n",
            "\n",
            "    accuracy                           0.98    152063\n",
            "   macro avg       0.70      0.50      0.50    152063\n",
            "weighted avg       0.97      0.98      0.98    152063\n",
            "\n"
          ]
        },
        {
          "output_type": "display_data",
          "data": {
            "image/png": "[encoded data removed]",
            "text/plain": [
              "<Figure size 432x288 with 2 Axes>"
            ]
          },
          "metadata": {
            "needs_background": "light"
          }
        }
      ]
    },
    {
      "cell_type": "markdown",
      "metadata": {
        "id": "l3WwW8rKF2R8"
      },
      "source": [
        "### XGBoost"
      ]
    },
    {
      "cell_type": "code",
      "metadata": {
        "id": "o3SeKf8sF1cL",
        "colab": {
          "base_uri": "https://localhost:8080/",
          "height": 432
        },
        "outputId": "89e4209a-6f47-4680-e533-bd3e43446edf"
      },
      "source": [
        "# xgb = XGBClassifier(scale_pos_weight=98)\n",
        "xgb = XGBClassifier()\n",
        "xgb.fit(X_train, y_train)\n",
        "xgb_pred = xgb.predict(X_test)\n",
        "\n",
        "plot_confusion_matrix(xgb, X_test, y_test, values_format = '', \n",
        "                      display_labels=['Not Fraud', 'Fraud'])\n",
        "plt.grid(None)\n",
        "print(classification_report(y_test, xgb_pred, zero_division=0))\n",
        "\n",
        "balanced_accuracy.append(balanced_accuracy_score(y_test, xgb_pred))"
      ],
      "execution_count": null,
      "outputs": [
        {
          "output_type": "stream",
          "name": "stdout",
          "text": [
            "              precision    recall  f1-score   support\n",
            "\n",
            "           0       0.98      1.00      0.99    149625\n",
            "           1       0.00      0.00      0.00      2438\n",
            "\n",
            "    accuracy                           0.98    152063\n",
            "   macro avg       0.49      0.50      0.50    152063\n",
            "weighted avg       0.97      0.98      0.98    152063\n",
            "\n"
          ]
        },
        {
          "output_type": "display_data",
          "data": {
            "image/png": "[encoded data removed]",
            "text/plain": [
              "<Figure size 432x288 with 2 Axes>"
            ]
          },
          "metadata": {
            "needs_background": "light"
          }
        }
      ]
    },
    {
      "cell_type": "markdown",
      "metadata": {
        "id": "YaVPbBXEGeK_"
      },
      "source": [
        "### LightGBm"
      ]
    },
    {
      "cell_type": "code",
      "metadata": {
        "id": "7dbImLf9Ggnx"
      },
      "source": [
        "from lightgbm import LGBMClassifier"
      ],
      "execution_count": null,
      "outputs": []
    },
    {
      "cell_type": "code",
      "metadata": {
        "id": "BWlATlHIGis8"
      },
      "source": [
        "lgb = LGBMClassifier(\n",
        "          # max_bin = 63,\n",
        "          max_depth = 63, num_leaves = 255, num_iterations = 500,\n",
        "          learning_rate = 0.01, tree_learner = 'serial', is_dfing_metric = False,\n",
        "          min_data_in_leaf = 1, min_sum_hessian_in_leaf = 100, sparse_threshold=1.0,\n",
        "          # device = 'gpu',\n",
        "          num_thread = -1, save_binary= True, seed= 42, feature_fraction_seed = 42,\n",
        "          bagging_seed = 42, drop_seed = 42, data_random_seed = 42,\n",
        "          objective = 'binary', boosting_type = 'gbdt',\n",
        "          verbose = 1, metric = 'auc',is_unbalance = True,\n",
        "          # scale_pos_weight = 98,\n",
        "          boost_from_average = False,\n",
        ")"
      ],
      "execution_count": null,
      "outputs": []
    },
    {
      "cell_type": "code",
      "metadata": {
        "id": "e6bJWV9ZGjOZ",
        "colab": {
          "base_uri": "https://localhost:8080/",
          "height": 432
        },
        "outputId": "ed9e1936-09cb-4c2a-f058-33dfab5f68c6"
      },
      "source": [
        "lgb.fit(X_train, y_train)\n",
        "\n",
        "lgb_train_pred = lgb.predict(X_train)\n",
        "plot_confusion_matrix(lgb, X_train, y_train, values_format = '', \n",
        "                      display_labels=['Not Fraud', 'Fraud'])\n",
        "plt.grid(None)\n",
        "print(classification_report(y_train, lgb_train_pred, zero_division=0))"
      ],
      "execution_count": null,
      "outputs": [
        {
          "output_type": "stream",
          "name": "stdout",
          "text": [
            "              precision    recall  f1-score   support\n",
            "\n",
            "           0       1.00      0.79      0.88    598697\n",
            "           1       0.07      0.91      0.12      9552\n",
            "\n",
            "    accuracy                           0.79    608249\n",
            "   macro avg       0.53      0.85      0.50    608249\n",
            "weighted avg       0.98      0.79      0.87    608249\n",
            "\n"
          ]
        },
        {
          "output_type": "display_data",
          "data": {
            "image/png": "[encoded data removed]",
            "text/plain": [
              "<Figure size 432x288 with 2 Axes>"
            ]
          },
          "metadata": {
            "needs_background": "light"
          }
        }
      ]
    },
    {
      "cell_type": "code",
      "metadata": {
        "id": "y79wDmC-Gvlz",
        "colab": {
          "base_uri": "https://localhost:8080/",
          "height": 432
        },
        "outputId": "265b13da-8e25-4d8f-d6f6-fd4799b166f7"
      },
      "source": [
        "lgb_pred = lgb.predict(X_test)\n",
        "\n",
        "plot_confusion_matrix(lgb, X_test, y_test, values_format = '', \n",
        "                      display_labels=['Not Fraud', 'Fraud'])\n",
        "print(classification_report(y_test, lgb_pred, zero_division=0))\n",
        "\n",
        "balanced_accuracy.append(balanced_accuracy_score(y_test, lgb_pred))"
      ],
      "execution_count": null,
      "outputs": [
        {
          "output_type": "stream",
          "name": "stdout",
          "text": [
            "              precision    recall  f1-score   support\n",
            "\n",
            "           0       0.99      0.79      0.88    149625\n",
            "           1       0.05      0.68      0.09      2438\n",
            "\n",
            "    accuracy                           0.79    152063\n",
            "   macro avg       0.52      0.73      0.49    152063\n",
            "weighted avg       0.98      0.79      0.87    152063\n",
            "\n"
          ]
        },
        {
          "output_type": "display_data",
          "data": {
            "image/png": "[encoded data removed]",
            "text/plain": [
              "<Figure size 432x288 with 2 Axes>"
            ]
          },
          "metadata": {
            "needs_background": "light"
          }
        }
      ]
    },
    {
      "cell_type": "code",
      "metadata": {
        "id": "YcvwFEBuGoCC",
        "colab": {
          "base_uri": "https://localhost:8080/",
          "height": 388
        },
        "outputId": "f2a3920f-03f6-44f2-bea5-49f964f13a5b"
      },
      "source": [
        "# print the feature importance\n",
        "features = X.columns\n",
        "feature_imp = lgb.feature_importances_\n",
        "\n",
        "feature_imp_df = pd.DataFrame({'features' : features, 'featureImportance' : feature_imp}).sort_values(by='featureImportance', ascending=False)\n",
        "\n",
        "# Plot top 10 features\n",
        "plt.figure(figsize=(8,6))\n",
        "plt.barh(y=feature_imp_df['features'].iloc[ : 10], width=feature_imp_df['featureImportance'].iloc[ : 10])\n",
        "plt.xlabel(\"Feature featureImportance\")\n",
        "plt.ylabel(\"features\")\n",
        "plt.show()"
      ],
      "execution_count": null,
      "outputs": [
        {
          "output_type": "display_data",
          "data": {
            "image/png": "[encoded data removed]",
            "text/plain": [
              "<Figure size 576x432 with 1 Axes>"
            ]
          },
          "metadata": {
            "needs_background": "light"
          }
        }
      ]
    },
    {
      "cell_type": "markdown",
      "metadata": {
        "id": "2myHUnk0V6-3"
      },
      "source": [
        "We can see one of the extracted feature is very important"
      ]
    },
    {
      "cell_type": "markdown",
      "metadata": {
        "id": "z-zyG2yUGlcv"
      },
      "source": [
        "### Result"
      ]
    },
    {
      "cell_type": "markdown",
      "metadata": {
        "id": "S2XjTaPD9eHb"
      },
      "source": [
        "Since there are much more False labled, the model can just have high accuracy by predicting everything to be False, which is not good for this case since we want to idenitfy Fraud. Thus, I used Balanced accuracy, a metric that one can use when evaluating how good a binary classifier, especially useful when the classes are imbalance, to justify the performance of the models beside confusion matrix and others like recall, F-score, and precision. "
      ]
    },
    {
      "cell_type": "code",
      "metadata": {
        "colab": {
          "base_uri": "https://localhost:8080/"
        },
        "id": "phPmaTmVGqRL",
        "outputId": "ff329c1c-fbe9-4781-9149-5fb3f1e6dde7"
      },
      "source": [
        "balance_acc_tab = pd.DataFrame({'model' : models, 'acc' : balanced_accuracy })\n",
        "print(balance_acc_tab)"
      ],
      "execution_count": null,
      "outputs": [
        {
          "output_type": "stream",
          "name": "stdout",
          "text": [
            "  model       acc\n",
            "0    DT  0.523499\n",
            "1    RF  0.501802\n",
            "2   XGB  0.500000\n",
            "3  LGBM  0.734057\n"
          ]
        }
      ]
    },
    {
      "cell_type": "code",
      "metadata": {
        "colab": {
          "base_uri": "https://localhost:8080/"
        },
        "id": "ZQFsBuKGGuuN",
        "outputId": "b7c07da7-b68d-4cf8-ed6f-279746e18834"
      },
      "source": [
        "axis = sns.barplot(x = 'model', y = 'acc', data = balance_acc_tab)\n",
        "axis.set(xlabel='Classifier', ylabel='Accuracy')\n",
        "axis.set(ylim=(0.0, 1.0))\n",
        "\n",
        "\n",
        "for p in axis.patches:\n",
        "    height = p.get_height()\n",
        "    axis.text(p.get_x() + p.get_width()/2, height + 0.005, '{:1.4f}'.format(height), ha=\"center\") \n",
        "    \n",
        "plt.show()"
      ],
      "execution_count": null,
      "outputs": [
        {
          "output_type": "display_data",
          "data": {
            "image/png": "[encoded data removed]",
            "text/plain": [
              "<Figure size 432x288 with 1 Axes>"
            ]
          },
          "metadata": {
            "needs_background": "light"
          }
        }
      ]
    },
    {
      "cell_type": "markdown",
      "metadata": {
        "id": "vma181k4BONs"
      },
      "source": [
        "Based on the table and the graph, we can see that lightGBM model perform the best with highest balanced accuracy. Looking at its confusion matrix, its recall (True positive rate) also the highest among four models, which mean its can classified fraud transaction well in case of imbalanced data. We can also see that the lightGBM model is not overfitted by comparing its result on the training set and the test set."
      ]
    },
    {
      "cell_type": "markdown",
      "metadata": {
        "id": "dA33oqsbpHXo"
      },
      "source": [
        "## Model with under sample data"
      ]
    },
    {
      "cell_type": "markdown",
      "metadata": {
        "id": "_3luzxr5pOo4"
      },
      "source": [
        "Undersample is a technique to balance uneven datasets by keeping all of the data in the minority class and decreasing the size of the majority class. It is one of several techniques data scientists can use to extract more accurate information from originally imbalanced datasets. Here I impelemented the RandomUnderSampler from imblearn library to perform that technique."
      ]
    },
    {
      "cell_type": "markdown",
      "metadata": {
        "id": "pbgtWdOrHOuj"
      },
      "source": [
        "### Undersample data"
      ]
    },
    {
      "cell_type": "code",
      "metadata": {
        "id": "7sYga1j9rQlR"
      },
      "source": [
        "from collections import Counter\n",
        "from sklearn.datasets import make_classification\n",
        "from imblearn.under_sampling import RandomUnderSampler "
      ],
      "execution_count": null,
      "outputs": []
    },
    {
      "cell_type": "code",
      "metadata": {
        "colab": {
          "base_uri": "https://localhost:8080/"
        },
        "id": "aADLRkgYqnYn",
        "outputId": "deb56a41-981f-4eea-f346-9c7f93dd8351"
      },
      "source": [
        "df_us = df_ml.copy() \n",
        "rus = RandomUnderSampler(sampling_strategy='not minority',random_state=34)\n",
        "y = df_us['isFraud']\n",
        "X = df_us.drop('isFraud', axis=1)\n",
        "X_us, y_us = rus.fit_resample(X, y)\n",
        "print(f'Data set size before Under Sampling: {X.shape}')\n",
        "print(f'Data set size after Under Sampling: {X_us.shape}')\n"
      ],
      "execution_count": null,
      "outputs": [
        {
          "output_type": "stream",
          "name": "stdout",
          "text": [
            "Data set size before Under Sampling: (760312, 42)\n",
            "Data set size after Under Sampling: (23980, 42)\n"
          ]
        }
      ]
    },
    {
      "cell_type": "code",
      "metadata": {
        "id": "7FwCcavbrVOK"
      },
      "source": [
        "X_train, X_test, y_train, y_test = train_test_split(X_us, y_us, test_size=0.20, random_state=33)"
      ],
      "execution_count": null,
      "outputs": []
    },
    {
      "cell_type": "code",
      "metadata": {
        "id": "ORI62DZNCxJH"
      },
      "source": [
        "models = ['DT','RF','XGB','LGBM']\n",
        "accuracy = []"
      ],
      "execution_count": null,
      "outputs": []
    },
    {
      "cell_type": "markdown",
      "metadata": {
        "id": "qK7rkw78w-pz"
      },
      "source": [
        "### Decision Tree"
      ]
    },
    {
      "cell_type": "code",
      "metadata": {
        "colab": {
          "base_uri": "https://localhost:8080/",
          "height": 432
        },
        "id": "Y-Io6LqurrlA",
        "outputId": "ca942e69-679f-4730-ce2c-2a044a0cf077"
      },
      "source": [
        "decision_tree_model = DecisionTreeClassifier(max_depth=5)\n",
        "decision_tree_model.fit(X_train, y_train)\n",
        "y_pred = decision_tree_model.predict(X_test)\n",
        "\n",
        "plot_confusion_matrix(decision_tree_model, X_test, y_test, values_format = '', \n",
        "                      display_labels=['Not Fraud', 'Fraud'])\n",
        "plt.grid(None)\n",
        "print(classification_report(y_test, y_pred, zero_division=0))\n",
        "accuracy.append(accuracy_score(y_test, y_pred))"
      ],
      "execution_count": null,
      "outputs": [
        {
          "output_type": "stream",
          "name": "stdout",
          "text": [
            "              precision    recall  f1-score   support\n",
            "\n",
            "           0       0.69      0.67      0.68      2370\n",
            "           1       0.69      0.70      0.70      2426\n",
            "\n",
            "    accuracy                           0.69      4796\n",
            "   macro avg       0.69      0.69      0.69      4796\n",
            "weighted avg       0.69      0.69      0.69      4796\n",
            "\n"
          ]
        },
        {
          "output_type": "display_data",
          "data": {
            "image/png": "[encoded data removed]",
            "text/plain": [
              "<Figure size 432x288 with 2 Axes>"
            ]
          },
          "metadata": {
            "needs_background": "light"
          }
        }
      ]
    },
    {
      "cell_type": "markdown",
      "metadata": {
        "id": "3gZEm4F_xDCt"
      },
      "source": [
        "### Random Forest"
      ]
    },
    {
      "cell_type": "code",
      "metadata": {
        "colab": {
          "base_uri": "https://localhost:8080/"
        },
        "id": "oS9RGt3Ar-8n",
        "outputId": "2ee4b6a8-0df0-45d0-919b-27bf6682e890"
      },
      "source": [
        "rf = RandomForestClassifier()\n",
        "\n",
        "# fit the predictor and target\n",
        "rf.fit(X_train, y_train)\n",
        "         \n",
        "# predict\n",
        "rf_pred = rf.predict(X_test)\n",
        "\n",
        "plot_confusion_matrix(rf, X_test, y_test, values_format = '', \n",
        "                      display_labels=['Not Fraud', 'Fraud'])\n",
        "plt.grid(None)\n",
        "print(classification_report(y_test, rf_pred, zero_division=0))\n",
        "accuracy.append(accuracy_score(y_test, rf_pred))"
      ],
      "execution_count": null,
      "outputs": [
        {
          "output_type": "stream",
          "name": "stdout",
          "text": [
            "              precision    recall  f1-score   support\n",
            "\n",
            "           0       0.71      0.70      0.71      2370\n",
            "           1       0.71      0.72      0.72      2426\n",
            "\n",
            "    accuracy                           0.71      4796\n",
            "   macro avg       0.71      0.71      0.71      4796\n",
            "weighted avg       0.71      0.71      0.71      4796\n",
            "\n"
          ]
        },
        {
          "output_type": "display_data",
          "data": {
            "image/png": "[encoded data removed]",
            "text/plain": [
              "<Figure size 432x288 with 2 Axes>"
            ]
          },
          "metadata": {
            "needs_background": "light"
          }
        }
      ]
    },
    {
      "cell_type": "markdown",
      "metadata": {
        "id": "zo26Wv9exFpL"
      },
      "source": [
        "### XGBoost"
      ]
    },
    {
      "cell_type": "code",
      "metadata": {
        "colab": {
          "base_uri": "https://localhost:8080/"
        },
        "id": "Msx9g4vWsHt2",
        "outputId": "a12ca3ee-27f8-47e7-8bf2-43a193ab0ba8"
      },
      "source": [
        "xgb = XGBClassifier()\n",
        "xgb.fit(X_train, y_train)\n",
        "\n",
        "xgb_pred = xgb.predict(X_test)\n",
        "\n",
        "plot_confusion_matrix(xgb, X_test, y_test, values_format = '', \n",
        "                      display_labels=['Not Fraud', 'Fraud'])\n",
        "plt.grid(None)\n",
        "print(classification_report(y_test, xgb_pred, zero_division=0))\n",
        "accuracy.append(accuracy_score(y_test, xgb_pred))"
      ],
      "execution_count": null,
      "outputs": [
        {
          "output_type": "stream",
          "name": "stdout",
          "text": [
            "              precision    recall  f1-score   support\n",
            "\n",
            "           0       0.69      0.74      0.71      2370\n",
            "           1       0.72      0.67      0.70      2426\n",
            "\n",
            "    accuracy                           0.70      4796\n",
            "   macro avg       0.70      0.70      0.70      4796\n",
            "weighted avg       0.70      0.70      0.70      4796\n",
            "\n"
          ]
        },
        {
          "output_type": "display_data",
          "data": {
            "image/png": "[encoded data removed]",
            "text/plain": [
              "<Figure size 432x288 with 2 Axes>"
            ]
          },
          "metadata": {
            "needs_background": "light"
          }
        }
      ]
    },
    {
      "cell_type": "markdown",
      "metadata": {
        "id": "Xr8qeudCyETw"
      },
      "source": [
        "### LightGBM"
      ]
    },
    {
      "cell_type": "code",
      "metadata": {
        "colab": {
          "base_uri": "https://localhost:8080/"
        },
        "id": "_wqRdajfskV1",
        "outputId": "ddaf9571-33bc-4623-8d3d-ac1f671b48a7"
      },
      "source": [
        "lgb = LGBMClassifier(\n",
        "          max_bin = 63,\n",
        "          # max_depth = 63,\n",
        "          num_leaves = 255, num_iterations = 500, learning_rate = 0.01,\n",
        "          tree_learner = 'serial', is_dfing_metric = False,\n",
        "          min_data_in_leaf = 1, min_sum_hessian_in_leaf = 100, sparse_threshold=1.0,\n",
        "          # device = 'gpu',\n",
        "          num_thread = -1, save_binary= True, seed= 42,\n",
        "          feature_fraction_seed = 42, bagging_seed = 42, drop_seed = 42,\n",
        "          data_random_seed = 42, objective = 'binary',\n",
        "          boosting_type = 'gbdt', verbose = 1, metric = 'auc',\n",
        "          # is_unbalance = True,\n",
        "          # scale_pos_weight = 98,\n",
        "          boost_from_average = False,\n",
        ")\n",
        "\n",
        "lgb.fit(X_train, y_train)"
      ],
      "execution_count": null,
      "outputs": [
        {
          "output_type": "execute_result",
          "data": {
            "text/plain": [
              "LGBMClassifier(bagging_seed=42, boost_from_average=False, boosting_type='gbdt',\n",
              "               class_weight=None, colsample_bytree=1.0, data_random_seed=42,\n",
              "               drop_seed=42, feature_fraction_seed=42, importance_type='split',\n",
              "               is_dfing_metric=False, learning_rate=0.01, max_bin=63,\n",
              "               max_depth=-1, metric='auc', min_child_samples=20,\n",
              "               min_child_weight=0.001, min_data_in_leaf=1, min_split_gain=0.0,\n",
              "               min_sum_hessian_in_leaf=100, n_estimators=100, n_jobs=-1,\n",
              "               num_iterations=500, num_leaves=255, num_thread=-1,\n",
              "               objective='binary', random_state=None, reg_alpha=0.0,\n",
              "               reg_lambda=0.0, save_binary=True, seed=42, ...)"
            ]
          },
          "metadata": {},
          "execution_count": 85
        }
      ]
    },
    {
      "cell_type": "code",
      "metadata": {
        "colab": {
          "base_uri": "https://localhost:8080/"
        },
        "id": "OhoewdXPs1f5",
        "outputId": "0af69b6f-a791-4b25-991b-0cfa5de99512"
      },
      "source": [
        "lgb_pred = lgb.predict(X_test)\n",
        "\n",
        "plot_confusion_matrix(lgb, X_test, y_test, values_format = '', \n",
        "                      display_labels=['Not Fraud', 'Fraud'])\n",
        "plt.grid(None)\n",
        "print(classification_report(y_test, y_pred, zero_division=0))\n",
        "accuracy.append(accuracy_score(y_test, lgb_pred))"
      ],
      "execution_count": null,
      "outputs": [
        {
          "output_type": "stream",
          "name": "stdout",
          "text": [
            "              precision    recall  f1-score   support\n",
            "\n",
            "           0       0.69      0.67      0.68      2370\n",
            "           1       0.69      0.70      0.70      2426\n",
            "\n",
            "    accuracy                           0.69      4796\n",
            "   macro avg       0.69      0.69      0.69      4796\n",
            "weighted avg       0.69      0.69      0.69      4796\n",
            "\n"
          ]
        },
        {
          "output_type": "display_data",
          "data": {
            "image/png": "[encoded data removed]",
            "text/plain": [
              "<Figure size 432x288 with 2 Axes>"
            ]
          },
          "metadata": {
            "needs_background": "light"
          }
        }
      ]
    },
    {
      "cell_type": "markdown",
      "metadata": {
        "id": "fcTEeajjEQzp"
      },
      "source": [
        "### Result"
      ]
    },
    {
      "cell_type": "code",
      "metadata": {
        "colab": {
          "base_uri": "https://localhost:8080/"
        },
        "id": "nnxNPHg-EIuE",
        "outputId": "66d9c59c-0b59-4a53-ffe2-fa6d7cc0cb53"
      },
      "source": [
        "acc_tab = pd.DataFrame({'model' : models, 'acc' : accuracy })\n",
        "print(acc_tab)"
      ],
      "execution_count": null,
      "outputs": [
        {
          "output_type": "stream",
          "name": "stdout",
          "text": [
            "  model       acc\n",
            "0    DT  0.688282\n",
            "1    RF  0.710592\n",
            "2   XGB  0.703711\n",
            "3  LGBM  0.716639\n"
          ]
        }
      ]
    },
    {
      "cell_type": "code",
      "metadata": {
        "colab": {
          "base_uri": "https://localhost:8080/",
          "height": 283
        },
        "id": "Dh4SqZq3EoL-",
        "outputId": "2fa7908c-f7bf-48c1-bfd7-610124bd16fc"
      },
      "source": [
        "axis = sns.barplot(x = 'model', y = 'acc', data = acc_tab)\n",
        "axis.set(xlabel='Classifier', ylabel='Accuracy')\n",
        "axis.set(ylim=(0.0, 1.0))\n",
        "\n",
        "\n",
        "for p in axis.patches:\n",
        "    height = p.get_height()\n",
        "    axis.text(p.get_x() + p.get_width()/2, height + 0.005, '{:1.4f}'.format(height), ha=\"center\") \n",
        "    \n",
        "plt.show()"
      ],
      "execution_count": null,
      "outputs": [
        {
          "output_type": "display_data",
          "data": {
            "image/png": "[encoded data removed]",
            "text/plain": [
              "<Figure size 432x288 with 1 Axes>"
            ]
          },
          "metadata": {
            "needs_background": "light"
          }
        }
      ]
    },
    {
      "cell_type": "markdown",
      "metadata": {
        "id": "btXoCSNxHZAQ"
      },
      "source": [
        "With more balanced data, other models improved their performance except the lightGBM stays the same."
      ]
    },
    {
      "cell_type": "markdown",
      "metadata": {
        "id": "ByuLte55uNnH"
      },
      "source": [
        "### Fine tune some models using grid search"
      ]
    },
    {
      "cell_type": "markdown",
      "metadata": {
        "id": "bah6hzmRHzHb"
      },
      "source": [
        "GridsearchCV is exhaustive search over specified parameter values for an estimator. "
      ]
    },
    {
      "cell_type": "code",
      "metadata": {
        "id": "1d1Q8uTeyPvT"
      },
      "source": [
        "from sklearn.model_selection import GridSearchCV"
      ],
      "execution_count": null,
      "outputs": []
    },
    {
      "cell_type": "markdown",
      "metadata": {
        "id": "irgo7sUYxtnn"
      },
      "source": [
        "#### Decision Tree"
      ]
    },
    {
      "cell_type": "code",
      "metadata": {
        "colab": {
          "base_uri": "https://localhost:8080/"
        },
        "id": "Fl1Dfx3euMTx",
        "outputId": "6ff67bc8-bbd3-4472-a8ff-0642dd21d7e2"
      },
      "source": [
        "dt_clf = DecisionTreeClassifier()\n",
        "params = {\n",
        "    \"criterion\":['gini','entropy'],\n",
        "    \"max_depth\": range(1,10),\n",
        "    \"min_samples_split\":range(1,10),\n",
        "    \"min_samples_leaf\":range(1,5)\n",
        "}\n",
        "\n",
        "dt_grid = GridSearchCV(dt_clf, param_grid=params, cv = 10,verbose=1,n_jobs=-1,scoring='accuracy')\n",
        "dt_grid.fit(X_train, y_train)"
      ],
      "execution_count": null,
      "outputs": [
        {
          "output_type": "stream",
          "name": "stdout",
          "text": [
            "Fitting 10 folds for each of 648 candidates, totalling 6480 fits\n"
          ]
        },
        {
          "output_type": "stream",
          "name": "stderr",
          "text": [
            "[Parallel(n_jobs=-1)]: Using backend LokyBackend with 2 concurrent workers.\n",
            "[Parallel(n_jobs=-1)]: Done 300 tasks      | elapsed:    4.7s\n",
            "[Parallel(n_jobs=-1)]: Done 1500 tasks      | elapsed:   43.9s\n",
            "[Parallel(n_jobs=-1)]: Done 2580 tasks      | elapsed:  1.8min\n",
            "[Parallel(n_jobs=-1)]: Done 3980 tasks      | elapsed:  2.9min\n",
            "[Parallel(n_jobs=-1)]: Done 5780 tasks      | elapsed:  4.8min\n",
            "[Parallel(n_jobs=-1)]: Done 6480 out of 6480 | elapsed:  6.0min finished\n"
          ]
        },
        {
          "output_type": "execute_result",
          "data": {
            "text/plain": [
              "GridSearchCV(cv=10, error_score=nan,\n",
              "             estimator=DecisionTreeClassifier(ccp_alpha=0.0, class_weight=None,\n",
              "                                              criterion='gini', max_depth=None,\n",
              "                                              max_features=None,\n",
              "                                              max_leaf_nodes=None,\n",
              "                                              min_impurity_decrease=0.0,\n",
              "                                              min_impurity_split=None,\n",
              "                                              min_samples_leaf=1,\n",
              "                                              min_samples_split=2,\n",
              "                                              min_weight_fraction_leaf=0.0,\n",
              "                                              presort='deprecated',\n",
              "                                              random_state=None,\n",
              "                                              splitter='best'),\n",
              "             iid='deprecated', n_jobs=-1,\n",
              "             param_grid={'criterion': ['gini', 'entropy'],\n",
              "                         'max_depth': range(1, 10),\n",
              "                         'min_samples_leaf': range(1, 5),\n",
              "                         'min_samples_split': range(1, 10)},\n",
              "             pre_dispatch='2*n_jobs', refit=True, return_train_score=False,\n",
              "             scoring='accuracy', verbose=1)"
            ]
          },
          "metadata": {},
          "execution_count": 90
        }
      ]
    },
    {
      "cell_type": "code",
      "metadata": {
        "colab": {
          "base_uri": "https://localhost:8080/"
        },
        "id": "6q1Cbl6b7fCn",
        "outputId": "48126647-1235-46dd-d36b-039a57dcc17f"
      },
      "source": [
        "print(dt_grid.best_params_)\n",
        "print(dt_grid.best_score_)"
      ],
      "execution_count": null,
      "outputs": [
        {
          "output_type": "stream",
          "name": "stdout",
          "text": [
            "{'criterion': 'entropy', 'max_depth': 8, 'min_samples_leaf': 4, 'min_samples_split': 3}\n",
            "0.6886449157511108\n"
          ]
        }
      ]
    },
    {
      "cell_type": "code",
      "metadata": {
        "colab": {
          "base_uri": "https://localhost:8080/",
          "height": 432
        },
        "id": "sZ6zJ7lq_Zkf",
        "outputId": "537f91d8-69f4-42d1-ce5c-21682e29ee79"
      },
      "source": [
        "decision_tree_model = DecisionTreeClassifier(criterion='entropy',max_depth=8,min_samples_leaf=4,min_samples_split=5)\n",
        "decision_tree_model.fit(X_train, y_train)\n",
        "y_pred = decision_tree_model.predict(X_test)\n",
        "\n",
        "plot_confusion_matrix(decision_tree_model, X_test, y_test, values_format = '', \n",
        "                      display_labels=['Not Fraud', 'Fraud'])\n",
        "plt.grid(None)\n",
        "print(classification_report(y_test, y_pred, zero_division=0))"
      ],
      "execution_count": null,
      "outputs": [
        {
          "output_type": "stream",
          "name": "stdout",
          "text": [
            "              precision    recall  f1-score   support\n",
            "\n",
            "           0       0.70      0.68      0.69      2370\n",
            "           1       0.69      0.71      0.70      2426\n",
            "\n",
            "    accuracy                           0.70      4796\n",
            "   macro avg       0.70      0.70      0.70      4796\n",
            "weighted avg       0.70      0.70      0.70      4796\n",
            "\n"
          ]
        },
        {
          "output_type": "display_data",
          "data": {
            "image/png": "[encoded data removed]",
            "text/plain": [
              "<Figure size 432x288 with 2 Axes>"
            ]
          },
          "metadata": {
            "needs_background": "light"
          }
        }
      ]
    },
    {
      "cell_type": "markdown",
      "metadata": {
        "id": "D6I6hlXYIGUy"
      },
      "source": [
        "We can see that accuracy of decision tree is slightly better than the result of default tree. This approach is very potential, but it requires a lot of time and computing power"
      ]
    },
    {
      "cell_type": "markdown",
      "metadata": {
        "id": "mEDBf9zCHSTr"
      },
      "source": [
        "## Overal Result"
      ]
    },
    {
      "cell_type": "markdown",
      "metadata": {
        "id": "X0n7mK_MzkSw"
      },
      "source": [
        "Based on the result, lightGBM model perform the best with highest accuracy in both cases. This is because the lightGBm is somewhat fine tuned while other models were not. "
      ]
    },
    {
      "cell_type": "markdown",
      "metadata": {
        "id": "12w6xvvWHOm4"
      },
      "source": [
        "# 6. Conclusion\n",
        "\n"
      ]
    },
    {
      "cell_type": "markdown",
      "metadata": {
        "id": "dZe-yenUHFFg"
      },
      "source": [
        "In conclusion, the main problem that I have while working on this dataset is its imbalance. As I have mentioned multiple times, the dataset is highly imbalanced with 0.15% True labels, while the rest are False labels due to the nature of the problem. Therefore, I believe the result would be better if we had more True labeled samples. Another issue I encountered was that attributes seem not correlated with the response variables, making the models hard to learn."
      ]
    },
    {
      "cell_type": "markdown",
      "metadata": {
        "id": "GTfb-kJ5RB9j"
      },
      "source": [
        "### *Some other fail attempts*"
      ]
    },
    {
      "cell_type": "markdown",
      "metadata": {
        "id": "kZKmUY29RFqt"
      },
      "source": [
        "First of all, during the data cleaning process, I have tried to extract information from the \"transactionDateTime\" attribute, for instance, day in month, day in week, month in year, or holiday, because I believe there might be some patterns like more fraud during days that closer to holidays. During the model building, I have tried to use a neural network, but it did not perform well. Beside trying different hyperparameters, I also tried to implement GridsearchCV to finetune the hyperparameters, but due to the limited computation power and time constraints, I could only test a limited number of parameters for the decision tree model and the result after that was not so good"
      ]
    },
    {
      "cell_type": "markdown",
      "metadata": {
        "id": "Z6Ynh4_FHAUL"
      },
      "source": [
        "### Future"
      ]
    },
    {
      "cell_type": "markdown",
      "metadata": {
        "id": "bSTyecq2HGU0"
      },
      "source": [
        "In the future, if I have more time to work on this project, I will \n",
        "- transform the dataset better, for example, extracting \"transactionDateTime\" information,\n",
        "- apply PCA to reduce the less related variable and make the model focus more on important features,\n",
        "- work on the neural network approach and implement other classification models like SVC, KNN,\n",
        "- fine tune those implemented model better."
      ]
    },
    {
      "cell_type": "markdown",
      "metadata": {
        "id": "BBJNuXFkRoei"
      },
      "source": [
        "# References"
      ]
    },
    {
      "cell_type": "markdown",
      "metadata": {
        "id": "AWYVPN7pRq9I"
      },
      "source": [
        "[What Is Undersampling? ](https://www.mastersindatascience.org/learning/statistics-data-science/undersampling/)\n",
        "\n",
        "[GridSearchCV](https://scikit-learn.org/stable/modules/generated/sklearn.model_selection.GridSearchCV.html)\n",
        "\n",
        "[What is balanced accuracy?](https://statisticaloddsandends.wordpress.com/2020/01/23/what-is-balanced-accuracy/)\n",
        "\n",
        "[A Data Science Framework: To Achieve 99% Accuracy](https://www.kaggle.com/minhdnguyen/a-data-science-framework-to-achieve-99-accuracy#Step-5:-Model-Data)\n",
        "\n",
        "[LightGBM model](https://www.kaggle.com/kirshoff/fraud-detection-lightgbm-xgboost)\n",
        "\n"
      ]
    }
  ]
}